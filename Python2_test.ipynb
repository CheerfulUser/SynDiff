{
 "cells": [
  {
   "cell_type": "code",
   "execution_count": 1,
   "metadata": {},
   "outputs": [
    {
     "name": "stdout",
     "output_type": "stream",
     "text": [
      "col 123.0\n",
      "cr (2,) float64\n",
      "evalCol (25,) int64\n",
      "evalColrow (25, 2) int64\n",
      "evalRow (25,) int64\n",
      "nEval 5\n",
      "prfObj (25,) object\n",
      "row 456.0\n",
      "self <tessprf.TessPrf object at 0x10cc77e90>\n",
      "srt (25,) int64\n"
     ]
    },
    {
     "data": {
      "text/plain": [
       "array([[2.53075469e-05, 2.61737941e-05, 2.23910058e-05, 1.94908173e-05,\n",
       "        2.83417993e-05, 3.11626884e-05, 3.13278231e-05, 3.19630054e-05,\n",
       "        3.09809911e-05, 2.81038318e-05, 2.36466019e-05, 2.04141008e-05,\n",
       "        2.29575178e-05],\n",
       "       [2.42706428e-05, 2.40807668e-05, 1.89780044e-05, 1.94177167e-05,\n",
       "        2.32406685e-05, 2.17086183e-05, 2.78028492e-05, 2.32212629e-05,\n",
       "        2.14542511e-05, 2.08314514e-05, 2.11056088e-05, 2.10222983e-05,\n",
       "        2.49968856e-05],\n",
       "       [2.86030811e-05, 2.77606084e-05, 5.38267929e-05, 3.03578012e-05,\n",
       "        2.08170594e-05, 2.65322164e-05, 1.93241509e-05, 4.79847743e-05,\n",
       "        5.72757175e-05, 4.41179337e-05, 3.12803227e-05, 2.53950178e-05,\n",
       "        2.63381001e-05],\n",
       "       [2.30549629e-05, 2.32818883e-05, 9.57862986e-05, 2.41463509e-04,\n",
       "        1.46556128e-04, 1.20257778e-04, 1.46756011e-04, 1.58979383e-04,\n",
       "        1.35470851e-04, 9.02326481e-05, 4.94072059e-05, 2.58857480e-05,\n",
       "        2.28613805e-05],\n",
       "       [2.87257244e-05, 2.03804056e-05, 2.79646450e-05, 3.29987461e-04,\n",
       "        1.40723791e-03, 2.36592866e-03, 2.05702831e-03, 7.70784559e-04,\n",
       "        3.67120906e-04, 1.89006773e-04, 7.90502777e-05, 3.50515258e-05,\n",
       "        2.74414470e-05],\n",
       "       [2.44679977e-05, 2.50939577e-05, 2.51402519e-05, 1.72842764e-04,\n",
       "        2.73388952e-03, 1.34783861e-02, 1.86204227e-02, 5.13618090e-03,\n",
       "        1.15082886e-03, 2.15998314e-04, 7.11918312e-05, 3.41820661e-05,\n",
       "        2.85955269e-05],\n",
       "       [2.54297776e-05, 2.31578746e-05, 1.88780639e-05, 1.14324830e-04,\n",
       "        2.06871262e-03, 1.86291427e-02, 1.73345055e-02, 4.39128415e-03,\n",
       "        6.49002132e-04, 1.37531329e-04, 5.34495020e-05, 2.33826790e-05,\n",
       "        2.07774418e-05],\n",
       "       [2.87233562e-05, 2.30104225e-05, 1.79582912e-05, 9.75012866e-05,\n",
       "        4.66929698e-04, 4.25462454e-03, 4.45759612e-03, 1.25804600e-03,\n",
       "        3.14393810e-04, 1.10286664e-04, 4.36227627e-05, 1.89271425e-05,\n",
       "        2.22997704e-05],\n",
       "       [3.36250268e-05, 2.36448347e-05, 2.04470601e-05, 8.53624474e-05,\n",
       "        2.48490072e-04, 7.29223151e-04, 6.63443970e-04, 2.74494511e-04,\n",
       "        1.57895531e-04, 7.80021356e-05, 2.96185651e-05, 2.85671673e-05,\n",
       "        2.30617347e-05],\n",
       "       [2.89321484e-05, 2.41519451e-05, 2.25890925e-05, 7.77070063e-05,\n",
       "        1.41224183e-04, 2.30766465e-04, 1.68990896e-04, 1.16628280e-04,\n",
       "        7.76999947e-05, 3.21803551e-05, 2.51629429e-05, 2.98902947e-05,\n",
       "        2.55423769e-05],\n",
       "       [3.05809745e-05, 2.46554203e-05, 2.19017399e-05, 4.82544966e-05,\n",
       "        8.34263726e-05, 9.76980366e-05, 7.95947777e-05, 5.60078489e-05,\n",
       "        2.79007832e-05, 2.05967618e-05, 2.24525809e-05, 3.11696512e-05,\n",
       "        2.67945598e-05],\n",
       "       [3.01948033e-05, 2.71233430e-05, 2.21353148e-05, 2.71464482e-05,\n",
       "        3.83726311e-05, 5.20031100e-05, 4.93250541e-05, 2.83722325e-05,\n",
       "        2.02510524e-05, 2.31579523e-05, 2.73668323e-05, 2.45600655e-05,\n",
       "        2.62216853e-05],\n",
       "       [2.50460578e-05, 2.52501135e-05, 2.27019135e-05, 2.38235946e-05,\n",
       "        2.73626058e-05, 2.85045885e-05, 2.87417476e-05, 2.65832049e-05,\n",
       "        3.08361549e-05, 3.13166523e-05, 3.43661314e-05, 2.96766420e-05,\n",
       "        3.18672243e-05]])"
      ]
     },
     "execution_count": 1,
     "metadata": {},
     "output_type": "execute_result"
    }
   ],
   "source": [
    "import numpy as np\n",
    "import sys\n",
    "sys.path\n",
    "sys.path.append('./dave/diffimg/')\n",
    "import tessprf\n",
    "pathToMatFile = './data/prf/'\n",
    "obj = tessprf.TessPrf(pathToMatFile)\n",
    "obj.getPrfAtColRow(123.0, 456.0, 1,1,1)"
   ]
  },
  {
   "cell_type": "code",
   "execution_count": 2,
   "metadata": {},
   "outputs": [],
   "source": [
    "import scipy.io as spio\n",
    "import os\n",
    "fn = \"tess2018243163600-00072_035-%i-%i-characterized-prf.mat\" %(1, 1)\n",
    "path = os.path.join('./data/prf/', fn)\n",
    "\n",
    "obj = spio.matlab.loadmat(path, struct_as_record=False, squeeze_me=True)"
   ]
  },
  {
   "cell_type": "code",
   "execution_count": 3,
   "metadata": {},
   "outputs": [
    {
     "data": {
      "text/plain": [
       "{'__globals__': [],\n",
       " '__header__': 'MATLAB 5.0 MAT-file, Platform: GLNXA64, Created on: Wed Aug 29 23:51:55 2018',\n",
       " '__version__': '1.0',\n",
       " 'prfStruct': array([<scipy.io.matlab.mio5_params.mat_struct object at 0x10297c6d0>,\n",
       "        <scipy.io.matlab.mio5_params.mat_struct object at 0xb0bdc2b50>,\n",
       "        <scipy.io.matlab.mio5_params.mat_struct object at 0xb0bdc2b90>,\n",
       "        <scipy.io.matlab.mio5_params.mat_struct object at 0xb0bdc2bd0>,\n",
       "        <scipy.io.matlab.mio5_params.mat_struct object at 0xb0bdc2c10>,\n",
       "        <scipy.io.matlab.mio5_params.mat_struct object at 0xb0bdc2c50>,\n",
       "        <scipy.io.matlab.mio5_params.mat_struct object at 0xb0bdc2c90>,\n",
       "        <scipy.io.matlab.mio5_params.mat_struct object at 0xb0bdc2cd0>,\n",
       "        <scipy.io.matlab.mio5_params.mat_struct object at 0xb0bdc2d10>,\n",
       "        <scipy.io.matlab.mio5_params.mat_struct object at 0xb0bdc2d50>,\n",
       "        <scipy.io.matlab.mio5_params.mat_struct object at 0xb0bdc2d90>,\n",
       "        <scipy.io.matlab.mio5_params.mat_struct object at 0xb0bdc2dd0>,\n",
       "        <scipy.io.matlab.mio5_params.mat_struct object at 0xb0bdc2e10>,\n",
       "        <scipy.io.matlab.mio5_params.mat_struct object at 0xb0bdc2e50>,\n",
       "        <scipy.io.matlab.mio5_params.mat_struct object at 0xb0bdc2e90>,\n",
       "        <scipy.io.matlab.mio5_params.mat_struct object at 0xb0bdc2ed0>,\n",
       "        <scipy.io.matlab.mio5_params.mat_struct object at 0xb0bdc2f10>,\n",
       "        <scipy.io.matlab.mio5_params.mat_struct object at 0xb0bdc2f50>,\n",
       "        <scipy.io.matlab.mio5_params.mat_struct object at 0xb0bdc2f90>,\n",
       "        <scipy.io.matlab.mio5_params.mat_struct object at 0xb0bdc2fd0>,\n",
       "        <scipy.io.matlab.mio5_params.mat_struct object at 0xb0bdde050>,\n",
       "        <scipy.io.matlab.mio5_params.mat_struct object at 0xb0bdde090>,\n",
       "        <scipy.io.matlab.mio5_params.mat_struct object at 0xb0bdde0d0>,\n",
       "        <scipy.io.matlab.mio5_params.mat_struct object at 0xb0bdde110>,\n",
       "        <scipy.io.matlab.mio5_params.mat_struct object at 0xb0bdde150>],\n",
       "       dtype=object)}"
      ]
     },
     "execution_count": 3,
     "metadata": {},
     "output_type": "execute_result"
    }
   ],
   "source": [
    "obj"
   ]
  },
  {
   "cell_type": "code",
   "execution_count": 4,
   "metadata": {},
   "outputs": [
    {
     "data": {
      "text/plain": [
       "array([<scipy.io.matlab.mio5_params.mat_struct object at 0x10297c6d0>,\n",
       "       <scipy.io.matlab.mio5_params.mat_struct object at 0xb0bdc2b50>,\n",
       "       <scipy.io.matlab.mio5_params.mat_struct object at 0xb0bdc2b90>,\n",
       "       <scipy.io.matlab.mio5_params.mat_struct object at 0xb0bdc2bd0>,\n",
       "       <scipy.io.matlab.mio5_params.mat_struct object at 0xb0bdc2c10>,\n",
       "       <scipy.io.matlab.mio5_params.mat_struct object at 0xb0bdc2c50>,\n",
       "       <scipy.io.matlab.mio5_params.mat_struct object at 0xb0bdc2c90>,\n",
       "       <scipy.io.matlab.mio5_params.mat_struct object at 0xb0bdc2cd0>,\n",
       "       <scipy.io.matlab.mio5_params.mat_struct object at 0xb0bdc2d10>,\n",
       "       <scipy.io.matlab.mio5_params.mat_struct object at 0xb0bdc2d50>,\n",
       "       <scipy.io.matlab.mio5_params.mat_struct object at 0xb0bdc2d90>,\n",
       "       <scipy.io.matlab.mio5_params.mat_struct object at 0xb0bdc2dd0>,\n",
       "       <scipy.io.matlab.mio5_params.mat_struct object at 0xb0bdc2e10>,\n",
       "       <scipy.io.matlab.mio5_params.mat_struct object at 0xb0bdc2e50>,\n",
       "       <scipy.io.matlab.mio5_params.mat_struct object at 0xb0bdc2e90>,\n",
       "       <scipy.io.matlab.mio5_params.mat_struct object at 0xb0bdc2ed0>,\n",
       "       <scipy.io.matlab.mio5_params.mat_struct object at 0xb0bdc2f10>,\n",
       "       <scipy.io.matlab.mio5_params.mat_struct object at 0xb0bdc2f50>,\n",
       "       <scipy.io.matlab.mio5_params.mat_struct object at 0xb0bdc2f90>,\n",
       "       <scipy.io.matlab.mio5_params.mat_struct object at 0xb0bdc2fd0>,\n",
       "       <scipy.io.matlab.mio5_params.mat_struct object at 0xb0bdde050>,\n",
       "       <scipy.io.matlab.mio5_params.mat_struct object at 0xb0bdde090>,\n",
       "       <scipy.io.matlab.mio5_params.mat_struct object at 0xb0bdde0d0>,\n",
       "       <scipy.io.matlab.mio5_params.mat_struct object at 0xb0bdde110>,\n",
       "       <scipy.io.matlab.mio5_params.mat_struct object at 0xb0bdde150>],\n",
       "      dtype=object)"
      ]
     },
     "execution_count": 4,
     "metadata": {},
     "output_type": "execute_result"
    }
   ],
   "source": [
    "prfObj = obj['prfStruct']\n",
    "prfObj"
   ]
  },
  {
   "cell_type": "code",
   "execution_count": 22,
   "metadata": {},
   "outputs": [
    {
     "data": {
      "text/plain": [
       "<function __main__.<lambda>>"
      ]
     },
     "execution_count": 22,
     "metadata": {},
     "output_type": "execute_result"
    }
   ],
   "source": [
    "beep[0]"
   ]
  },
  {
   "cell_type": "code",
   "execution_count": 25,
   "metadata": {},
   "outputs": [],
   "source": [
    "npmap = lambda f, x: np.array(list(map(f, x)))\n",
    "\n",
    "def badmap(f,x):\n",
    "    return np.array(map(f, x))"
   ]
  },
  {
   "cell_type": "code",
   "execution_count": 15,
   "metadata": {},
   "outputs": [
    {
     "ename": "NameError",
     "evalue": "name 'x' is not defined",
     "output_type": "error",
     "traceback": [
      "\u001b[0;31m---------------------------------------------------------------------------\u001b[0m",
      "\u001b[0;31mNameError\u001b[0m                                 Traceback (most recent call last)",
      "\u001b[0;32m<ipython-input-15-6d31915cb0ba>\u001b[0m in \u001b[0;36m<module>\u001b[0;34m()\u001b[0m\n\u001b[0;32m----> 1\u001b[0;31m \u001b[0mbadmap\u001b[0m\u001b[0;34m(\u001b[0m\u001b[0mx\u001b[0m\u001b[0;34m.\u001b[0m\u001b[0mccdColumn\u001b[0m\u001b[0;34m,\u001b[0m\u001b[0mprfObj\u001b[0m\u001b[0;34m)\u001b[0m\u001b[0;34m\u001b[0m\u001b[0m\n\u001b[0m",
      "\u001b[0;31mNameError\u001b[0m: name 'x' is not defined"
     ]
    }
   ],
   "source": [
    "badmap(x.ccdColumn,prfObj)"
   ]
  },
  {
   "cell_type": "code",
   "execution_count": 19,
   "metadata": {},
   "outputs": [
    {
     "data": {
      "text/plain": [
       "(<function __main__.<lambda>>,\n",
       " array([<scipy.io.matlab.mio5_params.mat_struct object at 0x10297c6d0>,\n",
       "        <scipy.io.matlab.mio5_params.mat_struct object at 0xb0bdc2b50>,\n",
       "        <scipy.io.matlab.mio5_params.mat_struct object at 0xb0bdc2b90>,\n",
       "        <scipy.io.matlab.mio5_params.mat_struct object at 0xb0bdc2bd0>,\n",
       "        <scipy.io.matlab.mio5_params.mat_struct object at 0xb0bdc2c10>,\n",
       "        <scipy.io.matlab.mio5_params.mat_struct object at 0xb0bdc2c50>,\n",
       "        <scipy.io.matlab.mio5_params.mat_struct object at 0xb0bdc2c90>,\n",
       "        <scipy.io.matlab.mio5_params.mat_struct object at 0xb0bdc2cd0>,\n",
       "        <scipy.io.matlab.mio5_params.mat_struct object at 0xb0bdc2d10>,\n",
       "        <scipy.io.matlab.mio5_params.mat_struct object at 0xb0bdc2d50>,\n",
       "        <scipy.io.matlab.mio5_params.mat_struct object at 0xb0bdc2d90>,\n",
       "        <scipy.io.matlab.mio5_params.mat_struct object at 0xb0bdc2dd0>,\n",
       "        <scipy.io.matlab.mio5_params.mat_struct object at 0xb0bdc2e10>,\n",
       "        <scipy.io.matlab.mio5_params.mat_struct object at 0xb0bdc2e50>,\n",
       "        <scipy.io.matlab.mio5_params.mat_struct object at 0xb0bdc2e90>,\n",
       "        <scipy.io.matlab.mio5_params.mat_struct object at 0xb0bdc2ed0>,\n",
       "        <scipy.io.matlab.mio5_params.mat_struct object at 0xb0bdc2f10>,\n",
       "        <scipy.io.matlab.mio5_params.mat_struct object at 0xb0bdc2f50>,\n",
       "        <scipy.io.matlab.mio5_params.mat_struct object at 0xb0bdc2f90>,\n",
       "        <scipy.io.matlab.mio5_params.mat_struct object at 0xb0bdc2fd0>,\n",
       "        <scipy.io.matlab.mio5_params.mat_struct object at 0xb0bdde050>,\n",
       "        <scipy.io.matlab.mio5_params.mat_struct object at 0xb0bdde090>,\n",
       "        <scipy.io.matlab.mio5_params.mat_struct object at 0xb0bdde0d0>,\n",
       "        <scipy.io.matlab.mio5_params.mat_struct object at 0xb0bdde110>,\n",
       "        <scipy.io.matlab.mio5_params.mat_struct object at 0xb0bdde150>],\n",
       "       dtype=object))"
      ]
     },
     "execution_count": 19,
     "metadata": {},
     "output_type": "execute_result"
    }
   ],
   "source": [
    "beep = lambda x: x.ccdColumn, prfObj"
   ]
  },
  {
   "cell_type": "code",
   "execution_count": 24,
   "metadata": {},
   "outputs": [
    {
     "data": {
      "text/plain": [
       "array([  45,   45, 1069, 1069, 1069, 1069, 1069, 1580, 1580, 1580, 1580,\n",
       "       1580,   45, 2092, 2092, 2092, 2092, 2092,   45,   45,  557,  557,\n",
       "        557,  557,  557])"
      ]
     },
     "execution_count": 24,
     "metadata": {},
     "output_type": "execute_result"
    }
   ],
   "source": [
    "badmap(beep[0],beep[1])"
   ]
  },
  {
   "cell_type": "code",
   "execution_count": 23,
   "metadata": {},
   "outputs": [
    {
     "data": {
      "text/plain": [
       "array([  45,   45, 1069, 1069, 1069, 1069, 1069, 1580, 1580, 1580, 1580,\n",
       "       1580,   45, 2092, 2092, 2092, 2092, 2092,   45,   45,  557,  557,\n",
       "        557,  557,  557])"
      ]
     },
     "execution_count": 23,
     "metadata": {},
     "output_type": "execute_result"
    }
   ],
   "source": [
    "npmap(beep[0],beep[1])"
   ]
  },
  {
   "cell_type": "code",
   "execution_count": 26,
   "metadata": {},
   "outputs": [],
   "source": [
    "evalCol = npmap(lambda x: x.ccdColumn, prfObj)\n",
    "evalRow = npmap(lambda x: x.ccdRow, prfObj)\n",
    "\n",
    "#Sort prfArray so its the right shape for getBracketingIndices()\n",
    "nEval = np.sqrt(len(prfObj))\n",
    "nEval = int(nEval)"
   ]
  },
  {
   "cell_type": "code",
   "execution_count": 13,
   "metadata": {},
   "outputs": [
    {
     "data": {
      "text/plain": [
       "<function __main__.<lambda>>"
      ]
     },
     "execution_count": 13,
     "metadata": {},
     "output_type": "execute_result"
    }
   ],
   "source": [
    "npmap"
   ]
  },
  {
   "cell_type": "code",
   "execution_count": 27,
   "metadata": {},
   "outputs": [],
   "source": [
    "evalColrow = np.vstack((evalCol, evalRow)).transpose()\n",
    "srt = np.lexsort((evalRow, evalCol))"
   ]
  },
  {
   "cell_type": "code",
   "execution_count": 28,
   "metadata": {},
   "outputs": [
    {
     "data": {
      "text/plain": [
       "array([[  45,    1],\n",
       "       [  45,  513],\n",
       "       [  45, 1025],\n",
       "       [  45, 1536],\n",
       "       [  45, 2048],\n",
       "       [ 557,    1],\n",
       "       [ 557,  513],\n",
       "       [ 557, 1025],\n",
       "       [ 557, 1536],\n",
       "       [ 557, 2048],\n",
       "       [1069,    1],\n",
       "       [1069,  513],\n",
       "       [1069, 1025],\n",
       "       [1069, 1536],\n",
       "       [1069, 2048],\n",
       "       [1580,    1],\n",
       "       [1580,  513],\n",
       "       [1580, 1025],\n",
       "       [1580, 1536],\n",
       "       [1580, 2048],\n",
       "       [2092,    1],\n",
       "       [2092,  513],\n",
       "       [2092, 1025],\n",
       "       [2092, 1536],\n",
       "       [2092, 2048]])"
      ]
     },
     "execution_count": 28,
     "metadata": {},
     "output_type": "execute_result"
    }
   ],
   "source": [
    "evalColrow[srt]"
   ]
  },
  {
   "cell_type": "code",
   "execution_count": null,
   "metadata": {},
   "outputs": [],
   "source": [
    "evalColRow = evalColrow[srt].reshape((nEval, nEval, 2))"
   ]
  }
 ],
 "metadata": {
  "anaconda-cloud": {},
  "kernelspec": {
   "display_name": "Python [py27]",
   "language": "python",
   "name": "Python [py27]"
  },
  "language_info": {
   "codemirror_mode": {
    "name": "ipython",
    "version": 2
   },
   "file_extension": ".py",
   "mimetype": "text/x-python",
   "name": "python",
   "nbconvert_exporter": "python",
   "pygments_lexer": "ipython2",
   "version": "2.7.15"
  }
 },
 "nbformat": 4,
 "nbformat_minor": 2
}
