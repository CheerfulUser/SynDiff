{
 "cells": [
  {
   "cell_type": "code",
   "execution_count": 26,
   "metadata": {},
   "outputs": [],
   "source": [
    "%matplotlib notebook\n",
    "import numpy as np\n",
    "from astropy.table import Table\n",
    "import requests\n",
    "from PIL import Image\n",
    "from io import BytesIO\n",
    "import matplotlib.pyplot as plt\n",
    "from astropy.io import fits\n",
    "from astropy.wcs import WCS\n",
    "\n",
    "from astropy.stats import SigmaClip\n",
    "from photutils import Background2D, SExtractorBackground"
   ]
  },
  {
   "cell_type": "code",
   "execution_count": 28,
   "metadata": {},
   "outputs": [],
   "source": [
    "def Rewrite_header_wcs(Fits,wcs):\n",
    "    newvals = wcs.to_header()\n",
    "    new_fits = Fits#.copy()\n",
    "    for key in newvals:\n",
    "        new_fits[0].header[key] = newvals[key]\n",
    "    return new_fits\n",
    "\n",
    "def Photutils_background(Flux):\n",
    "    \"\"\"\n",
    "    Uses Photutils to estimate the background flux.\n",
    "    \n",
    "    Inputs:\n",
    "    -------\n",
    "    Flux - 3d array\n",
    "\n",
    "    Outputs:\n",
    "    -------\n",
    "    bkg - background model\n",
    "    std - rms error of the background model \n",
    "\n",
    "    \"\"\"\n",
    "    bkg = np.zeros_like(Flux)\n",
    "    std = np.zeros_like(Flux)\n",
    "    for i in range(len(Flux)):\n",
    "        #mask = ~(Flux[i] / (np.nanmedian(Flux[i]) + 0.8*np.nanstd(Flux[i])) > 1)\n",
    "\n",
    "        if np.nansum(np.nansum(Flux[i])):\n",
    "            sigma_clip = SigmaClip(sigma=3.)\n",
    "            #bkg_estimator = SExtractorBackground()\n",
    "            beep = Background2D(Flux[i], (3, 3), sigma_clip=sigma_clip,exclude_percentile=70)\n",
    "            bkg[i] = beep.background\n",
    "            std[i] = beep.background_rms\n",
    "    return bkg, std"
   ]
  },
  {
   "cell_type": "code",
   "execution_count": 24,
   "metadata": {},
   "outputs": [],
   "source": [
    "hdu = fits.open('./data/WCS_tests/tess2018319155939-s0005-1-1-0125-s_ffic.fits')\n",
    "data = hdu[1].data\n",
    "hdu = fits.PrimaryHDU(data)\n",
    "hdu.writeto('./data/WCS_tests/tess_test_s5c1c1.fits',overwrite=True)\n",
    "# pass at background sub\n",
    "bkg, err = Photutils_background([data])\n",
    "hdu = fits.PrimaryHDU(data-bkg)\n",
    "hdu.writeto('./data/WCS_tests/tess_test_s5c1c1_sub.fits',overwrite=True)\n",
    "\n",
    "\n",
    "hdu = fits.open('./data/WCS_tests/tess2019008095936-s0007-1-1-0131-s_ffic.fits')\n",
    "data = hdu[1].data\n",
    "hdu = fits.PrimaryHDU(data)\n",
    "hdu.writeto('./data/WCS_tests/tess_test_s7c1c1.fits',overwrite=True)\n",
    "\n",
    "hdu = fits.open('./data/WCS_tests/tess2019200075929-s0014-1-1-0150-s_ffic.fits')\n",
    "data = hdu[1].data\n",
    "hdu = fits.PrimaryHDU(data)\n",
    "hdu.writeto('./data/WCS_tests/tess_test_s14c1c1.fits',overwrite=True)"
   ]
  },
  {
   "cell_type": "code",
   "execution_count": 15,
   "metadata": {},
   "outputs": [],
   "source": [
    "hdu = fits.open('./data/WCS_tests/tess2018319155939-s0005-1-1-0125-s_ffic.fits')\n",
    "data = hdu[1].data"
   ]
  },
  {
   "cell_type": "markdown",
   "metadata": {},
   "source": [
    "## Match the astrom.net wcs with image"
   ]
  },
  {
   "cell_type": "code",
   "execution_count": 31,
   "metadata": {},
   "outputs": [],
   "source": [
    "# Fix the header for the PS astrometry fit\n",
    "wcs_sub = WCS('./data/WCS_tests/tests5c1c1_sub_wcs.fits')\n",
    "hdu = fits.open('./data/WCS_tests/tests5c1c1_sub_image.fits')\n",
    "astron_ps = Rewrite_header_wcs(hdu,wcs_sub)\n",
    "fits.writeto('./data/WCS_tests/s5c1c1_ast_sub.fits',astron_ps[0].data,astron_ps[0].header)\n",
    "\n",
    "wcs_sub = WCS('./data/WCS_tests/tests5c1c1_no_sub_wcs.fits')\n",
    "hdu = fits.open('./data/WCS_tests/tests5c1c1_no_sub_image.fits')\n",
    "astron_ps = Rewrite_header_wcs(hdu,wcs_sub)\n",
    "fits.writeto('./data/WCS_tests/s5c1c1_ast_no_sub.fits',astron_ps[0].data,astron_ps[0].header)"
   ]
  },
  {
   "cell_type": "code",
   "execution_count": null,
   "metadata": {},
   "outputs": [],
   "source": []
  }
 ],
 "metadata": {
  "kernelspec": {
   "display_name": "Python 3",
   "language": "python",
   "name": "python3"
  },
  "language_info": {
   "codemirror_mode": {
    "name": "ipython",
    "version": 3
   },
   "file_extension": ".py",
   "mimetype": "text/x-python",
   "name": "python",
   "nbconvert_exporter": "python",
   "pygments_lexer": "ipython3",
   "version": "3.7.3"
  }
 },
 "nbformat": 4,
 "nbformat_minor": 2
}
