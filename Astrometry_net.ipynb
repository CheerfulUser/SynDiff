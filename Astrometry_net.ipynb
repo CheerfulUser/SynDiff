{
 "cells": [
  {
   "cell_type": "code",
   "execution_count": null,
   "metadata": {},
   "outputs": [],
   "source": [
    "solve-field -m temp/ --parity neg --no-plots --no-tweak --no-fits2fits --no-verify --scale-low 0.47 --scale-high 0.51 --scale-units app --ra 18:06:58.9 --dec -19:56:53 --radius 2 --crpix-center --overwrite --backend-config backend.cfg -N solvefield.out.fits input.fits"
   ]
  }
 ],
 "metadata": {
  "anaconda-cloud": {},
  "kernelspec": {
   "display_name": "Python 3",
   "language": "python",
   "name": "python3"
  },
  "language_info": {
   "codemirror_mode": {
    "name": "ipython",
    "version": 3
   },
   "file_extension": ".py",
   "mimetype": "text/x-python",
   "name": "python",
   "nbconvert_exporter": "python",
   "pygments_lexer": "ipython3",
   "version": "3.7.3"
  }
 },
 "nbformat": 4,
 "nbformat_minor": 2
}
