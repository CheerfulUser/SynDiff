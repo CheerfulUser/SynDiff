{
 "cells": [
  {
   "cell_type": "markdown",
   "metadata": {},
   "source": [
    "Make a scene using the PS1 catalog"
   ]
  },
  {
   "cell_type": "code",
   "execution_count": 1,
   "metadata": {},
   "outputs": [],
   "source": [
    "%matplotlib notebook\n",
    "import numpy as np\n",
    "import matplotlib.pyplot as plt\n",
    "\n",
    "import sys\n",
    "sys.path\n",
    "sys.path.append('../scenes/')\n",
    "import syndiff as sd \n",
    "import delta_kernal as dk"
   ]
  },
  {
   "cell_type": "code",
   "execution_count": 2,
   "metadata": {},
   "outputs": [],
   "source": [
    "# SN2020amx\n",
    "ra = 148.5706917\t\n",
    "dec = 51.68126944\n",
    "# SN2020fqv\n",
    "ra = 189.1385827     \n",
    "dec = 11.2316599\n",
    "#SN 2020ftl\n",
    "#ra = 185.0157359\t\n",
    "#dec = 5.343323863\n"
   ]
  },
  {
   "cell_type": "code",
   "execution_count": 3,
   "metadata": {},
   "outputs": [
    {
     "ename": "NameError",
     "evalue": "name 'no_targets_found_message' is not defined",
     "output_type": "error",
     "traceback": [
      "\u001b[0;31m---------------------------------------------------------------------------\u001b[0m",
      "\u001b[0;31mNameError\u001b[0m                                 Traceback (most recent call last)",
      "\u001b[0;32m<ipython-input-3-f2840999dff3>\u001b[0m in \u001b[0;36m<module>\u001b[0;34m\u001b[0m\n\u001b[0;32m----> 1\u001b[0;31m \u001b[0mscene\u001b[0m\u001b[0;34m,\u001b[0m \u001b[0mtpf\u001b[0m \u001b[0;34m=\u001b[0m \u001b[0msd\u001b[0m\u001b[0;34m.\u001b[0m\u001b[0mCatalog_scene\u001b[0m\u001b[0;34m(\u001b[0m\u001b[0mra\u001b[0m\u001b[0;34m,\u001b[0m\u001b[0mdec\u001b[0m\u001b[0;34m,\u001b[0m\u001b[0;36m20\u001b[0m\u001b[0;34m,\u001b[0m\u001b[0mMaglim\u001b[0m\u001b[0;34m=\u001b[0m \u001b[0;36m16\u001b[0m\u001b[0;34m,\u001b[0m \u001b[0mSector\u001b[0m\u001b[0;34m=\u001b[0m\u001b[0;36m23\u001b[0m\u001b[0;34m,\u001b[0m \u001b[0mCatalog\u001b[0m\u001b[0;34m=\u001b[0m\u001b[0;34m'ps1'\u001b[0m\u001b[0;34m,\u001b[0m\u001b[0mInterpolate\u001b[0m\u001b[0;34m=\u001b[0m\u001b[0;32mTrue\u001b[0m\u001b[0;34m,\u001b[0m\u001b[0mPlot\u001b[0m\u001b[0;34m=\u001b[0m\u001b[0;32mTrue\u001b[0m\u001b[0;34m)\u001b[0m\u001b[0;31m#,Save='PS1_catalog_scene.pdf')\u001b[0m\u001b[0;34m\u001b[0m\u001b[0;34m\u001b[0m\u001b[0m\n\u001b[0m",
      "\u001b[0;32m~/Documents/PhD/coding/SynDiff/scenes/syndiff.py\u001b[0m in \u001b[0;36mCatalog_scene\u001b[0;34m(Ra, Dec, Size, Maglim, Catalog, Sector, Bkg_limit, Zeropoint, Scale, Interpolate, FFT, PRF, Plot, Save)\u001b[0m\n\u001b[1;32m    338\u001b[0m                 \u001b[0mpos\u001b[0m\u001b[0;34m,\u001b[0m \u001b[0mTmag\u001b[0m \u001b[0;34m=\u001b[0m \u001b[0mGet_Gaia\u001b[0m\u001b[0;34m(\u001b[0m\u001b[0mtpf\u001b[0m\u001b[0;34m,\u001b[0m\u001b[0mmagnitude_limit\u001b[0m\u001b[0;34m=\u001b[0m\u001b[0mMaglim\u001b[0m\u001b[0;34m)\u001b[0m\u001b[0;34m\u001b[0m\u001b[0;34m\u001b[0m\u001b[0m\n\u001b[1;32m    339\u001b[0m         \u001b[0;32mif\u001b[0m \u001b[0mCatalog\u001b[0m \u001b[0;34m==\u001b[0m \u001b[0;34m'ps1'\u001b[0m\u001b[0;34m:\u001b[0m\u001b[0;34m\u001b[0m\u001b[0;34m\u001b[0m\u001b[0m\n\u001b[0;32m--> 340\u001b[0;31m                 \u001b[0mpos\u001b[0m\u001b[0;34m,\u001b[0m \u001b[0mTmag\u001b[0m \u001b[0;34m=\u001b[0m \u001b[0mGet_PS1\u001b[0m\u001b[0;34m(\u001b[0m\u001b[0mtpf\u001b[0m\u001b[0;34m,\u001b[0m\u001b[0mmagnitude_limit\u001b[0m\u001b[0;34m=\u001b[0m\u001b[0mMaglim\u001b[0m\u001b[0;34m)\u001b[0m\u001b[0;34m\u001b[0m\u001b[0;34m\u001b[0m\u001b[0m\n\u001b[0m\u001b[1;32m    341\u001b[0m         \u001b[0;32mif\u001b[0m \u001b[0mCatalog\u001b[0m \u001b[0;34m==\u001b[0m \u001b[0;34m'unified'\u001b[0m\u001b[0;34m:\u001b[0m\u001b[0;34m\u001b[0m\u001b[0;34m\u001b[0m\u001b[0m\n\u001b[1;32m    342\u001b[0m                 \u001b[0mposg\u001b[0m\u001b[0;34m,\u001b[0m \u001b[0mTmagg\u001b[0m \u001b[0;34m=\u001b[0m \u001b[0mGet_Gaia\u001b[0m\u001b[0;34m(\u001b[0m\u001b[0mtpf\u001b[0m\u001b[0;34m,\u001b[0m\u001b[0mmagnitude_limit\u001b[0m\u001b[0;34m=\u001b[0m\u001b[0mMaglim\u001b[0m\u001b[0;34m)\u001b[0m\u001b[0;34m\u001b[0m\u001b[0;34m\u001b[0m\u001b[0m\n",
      "\u001b[0;32m~/Documents/PhD/coding/SynDiff/scenes/syndiff.py\u001b[0m in \u001b[0;36mGet_PS1\u001b[0;34m(tpf, magnitude_limit, Offset)\u001b[0m\n\u001b[1;32m    291\u001b[0m         \u001b[0mresult\u001b[0m \u001b[0;34m=\u001b[0m \u001b[0mresult\u001b[0m\u001b[0;34m[\u001b[0m\u001b[0mresult\u001b[0m\u001b[0;34m.\u001b[0m\u001b[0mtmag\u001b[0m \u001b[0;34m<\u001b[0m \u001b[0mmagnitude_limit\u001b[0m\u001b[0;34m]\u001b[0m\u001b[0;34m\u001b[0m\u001b[0;34m\u001b[0m\u001b[0m\n\u001b[1;32m    292\u001b[0m         \u001b[0;32mif\u001b[0m \u001b[0mlen\u001b[0m\u001b[0;34m(\u001b[0m\u001b[0mresult\u001b[0m\u001b[0;34m)\u001b[0m \u001b[0;34m==\u001b[0m \u001b[0;36m0\u001b[0m\u001b[0;34m:\u001b[0m\u001b[0;34m\u001b[0m\u001b[0;34m\u001b[0m\u001b[0m\n\u001b[0;32m--> 293\u001b[0;31m                 \u001b[0;32mraise\u001b[0m \u001b[0mno_targets_found_message\u001b[0m\u001b[0;34m\u001b[0m\u001b[0;34m\u001b[0m\u001b[0m\n\u001b[0m\u001b[1;32m    294\u001b[0m         \u001b[0mradecs\u001b[0m \u001b[0;34m=\u001b[0m \u001b[0mnp\u001b[0m\u001b[0;34m.\u001b[0m\u001b[0mvstack\u001b[0m\u001b[0;34m(\u001b[0m\u001b[0;34m[\u001b[0m\u001b[0mresult\u001b[0m\u001b[0;34m[\u001b[0m\u001b[0;34m'RAJ2000'\u001b[0m\u001b[0;34m]\u001b[0m\u001b[0;34m,\u001b[0m \u001b[0mresult\u001b[0m\u001b[0;34m[\u001b[0m\u001b[0;34m'DEJ2000'\u001b[0m\u001b[0;34m]\u001b[0m\u001b[0;34m]\u001b[0m\u001b[0;34m)\u001b[0m\u001b[0;34m.\u001b[0m\u001b[0mT\u001b[0m\u001b[0;34m\u001b[0m\u001b[0;34m\u001b[0m\u001b[0m\n\u001b[1;32m    295\u001b[0m         \u001b[0mcoords\u001b[0m \u001b[0;34m=\u001b[0m \u001b[0mtpf\u001b[0m\u001b[0;34m.\u001b[0m\u001b[0mwcs\u001b[0m\u001b[0;34m.\u001b[0m\u001b[0mall_world2pix\u001b[0m\u001b[0;34m(\u001b[0m\u001b[0mradecs\u001b[0m\u001b[0;34m,\u001b[0m \u001b[0;36m0\u001b[0m\u001b[0;34m)\u001b[0m \u001b[0;31m## TODO, is origin supposed to be zero or one?\u001b[0m\u001b[0;34m\u001b[0m\u001b[0;34m\u001b[0m\u001b[0m\n",
      "\u001b[0;31mNameError\u001b[0m: name 'no_targets_found_message' is not defined"
     ]
    }
   ],
   "source": [
    "scene, tpf = sd.Catalog_scene(ra,dec,20,Maglim= 16, Sector=23, Catalog='ps1',Interpolate=True,Plot=True)#,Save='PS1_catalog_scene.pdf')"
   ]
  },
  {
   "cell_type": "code",
   "execution_count": 8,
   "metadata": {},
   "outputs": [],
   "source": [
    "def PS1_to_TESS_mag(PS1):\n",
    "    \"\"\"\n",
    "    https://arxiv.org/pdf/1706.00495.pdf pg.9\n",
    "    \"\"\"\n",
    "    coeffs = np.array([0.6767,0.9751,0.9773,0.6725])\n",
    "    #g = PS1.gmag.values\n",
    "    r = PS1.rmag.values\n",
    "    i = PS1.imag.values\n",
    "    #z = PS1.zmag.values\n",
    "    #y = PS1.ymag.values\n",
    "\n",
    "    t = coeffs[0] * r + coeffs[1] * i #+ coeffs[2] * z + coeffs[3] * y\n",
    "    #i - 0.00206*(g - i)**3 - 0.02370*(g - i)**2 + 0.00573*(g - i) - 0.3078\n",
    "    PS1['tmag'] = t\n",
    "    return PS1\n",
    "\n",
    "def Get_PS1(tpf, magnitude_limit = 18, Offset = 10):\n",
    "    \"\"\"\n",
    "    Get the coordinates and mag of all PS1 sources in the field of view.\n",
    "\n",
    "    -------\n",
    "    Inputs-\n",
    "    -------\n",
    "        tpf \t\t\t\tclass \ttarget pixel file lightkurve class\n",
    "        magnitude_limit \tfloat \tcutoff for Gaia sources\n",
    "        Offset \t\t\t\tint \toffset for the boundary \n",
    "\n",
    "    --------\n",
    "    Outputs-\n",
    "    --------\n",
    "        coords \tarray\tcoordinates of sources\n",
    "        Gmag \tarray \tGmags of sources\n",
    "    \"\"\"\n",
    "    result =  sd.Get_Catalogue(tpf, Catalog = 'ps1')\n",
    "    result = result[np.isfinite(result.rmag) & np.isfinite(result.imag)]# & np.isfinite(result.zmag)& np.isfinite(result.ymag)]\n",
    "    result = PS1_to_TESS_mag(result)\n",
    "    print()\n",
    "\n",
    "\n",
    "    result = result[result.tmag < magnitude_limit]\n",
    "    if len(result) == 0:\n",
    "        raise no_targets_found_message\n",
    "    radecs = np.vstack([result['RAJ2000'], result['DEJ2000']]).T\n",
    "    coords = tpf.wcs.all_world2pix(radecs, 0) ## TODO, is origin supposed to be zero or one?\n",
    "    Tessmag = result['tmag'].values\n",
    "    #Jmag = result['Jmag']\n",
    "    ind = (((coords[:,0] >= -10) & (coords[:,1] >= -10)) & \n",
    "           ((coords[:,0] < (tpf.shape[1] + 10)) & (coords[:,1] < (tpf.shape[2] + 10))))\n",
    "    coords = coords[ind]\n",
    "    Tessmag = Tessmag[ind]\n",
    "    #Jmag = Jmag[ind]\n",
    "    return coords, Tessmag"
   ]
  },
  {
   "cell_type": "code",
   "execution_count": 9,
   "metadata": {},
   "outputs": [],
   "source": [
    "tpf = sd.Get_TESS(ra,dec,20)"
   ]
  },
  {
   "cell_type": "code",
   "execution_count": 16,
   "metadata": {},
   "outputs": [],
   "source": [
    "result =  sd.Get_Catalogue(tpf, Catalog = 'ps1')"
   ]
  },
  {
   "cell_type": "code",
   "execution_count": 18,
   "metadata": {},
   "outputs": [
    {
     "name": "stderr",
     "output_type": "stream",
     "text": [
      "/Users/ryanr/miniconda3/lib/python3.7/site-packages/ipykernel_launcher.py:14: SettingWithCopyWarning: \n",
      "A value is trying to be set on a copy of a slice from a DataFrame.\n",
      "Try using .loc[row_indexer,col_indexer] = value instead\n",
      "\n",
      "See the caveats in the documentation: https://pandas.pydata.org/pandas-docs/stable/user_guide/indexing.html#returning-a-view-versus-a-copy\n",
      "  \n"
     ]
    }
   ],
   "source": [
    "result = result[np.isfinite(result.rmag) & np.isfinite(result.imag) & np.isfinite(result.zmag)& np.isfinite(result.ymag)]\n",
    "result = PS1_to_TESS_mag(result)"
   ]
  },
  {
   "cell_type": "code",
   "execution_count": 19,
   "metadata": {},
   "outputs": [
    {
     "data": {
      "text/html": [
       "<div>\n",
       "<style scoped>\n",
       "    .dataframe tbody tr th:only-of-type {\n",
       "        vertical-align: middle;\n",
       "    }\n",
       "\n",
       "    .dataframe tbody tr th {\n",
       "        vertical-align: top;\n",
       "    }\n",
       "\n",
       "    .dataframe thead th {\n",
       "        text-align: right;\n",
       "    }\n",
       "</style>\n",
       "<table border=\"1\" class=\"dataframe\">\n",
       "  <thead>\n",
       "    <tr style=\"text-align: right;\">\n",
       "      <th></th>\n",
       "      <th>RAJ2000</th>\n",
       "      <th>DEJ2000</th>\n",
       "      <th>objID</th>\n",
       "      <th>f_objID</th>\n",
       "      <th>Qual</th>\n",
       "      <th>e_RAJ2000</th>\n",
       "      <th>e_DEJ2000</th>\n",
       "      <th>_tab1_10</th>\n",
       "      <th>Ns</th>\n",
       "      <th>Nd</th>\n",
       "      <th>...</th>\n",
       "      <th>e_zmag</th>\n",
       "      <th>zKmag</th>\n",
       "      <th>e_zKmag</th>\n",
       "      <th>zFlags</th>\n",
       "      <th>ymag</th>\n",
       "      <th>e_ymag</th>\n",
       "      <th>yKmag</th>\n",
       "      <th>e_yKmag</th>\n",
       "      <th>yFlags</th>\n",
       "      <th>tmag</th>\n",
       "    </tr>\n",
       "  </thead>\n",
       "  <tbody>\n",
       "    <tr>\n",
       "      <th>9</th>\n",
       "      <td>189.183498</td>\n",
       "      <td>11.133010</td>\n",
       "      <td>121361891835630129</td>\n",
       "      <td>436527104</td>\n",
       "      <td>52</td>\n",
       "      <td>0.0040</td>\n",
       "      <td>0.0055</td>\n",
       "      <td>55903.662141</td>\n",
       "      <td>5</td>\n",
       "      <td>76</td>\n",
       "      <td>...</td>\n",
       "      <td>0.0052</td>\n",
       "      <td>17.9549</td>\n",
       "      <td>0.0133</td>\n",
       "      <td>115000</td>\n",
       "      <td>17.7976</td>\n",
       "      <td>0.0067</td>\n",
       "      <td>17.9086</td>\n",
       "      <td>0.0182</td>\n",
       "      <td>115000</td>\n",
       "      <td>29.776195</td>\n",
       "    </tr>\n",
       "    <tr>\n",
       "      <th>10</th>\n",
       "      <td>189.175247</td>\n",
       "      <td>11.123413</td>\n",
       "      <td>121341891753558700</td>\n",
       "      <td>444915712</td>\n",
       "      <td>53</td>\n",
       "      <td>0.0084</td>\n",
       "      <td>0.0110</td>\n",
       "      <td>55949.728160</td>\n",
       "      <td>5</td>\n",
       "      <td>81</td>\n",
       "      <td>...</td>\n",
       "      <td>0.0694</td>\n",
       "      <td>19.2705</td>\n",
       "      <td>0.0187</td>\n",
       "      <td>16892216</td>\n",
       "      <td>19.5078</td>\n",
       "      <td>0.0757</td>\n",
       "      <td>19.1853</td>\n",
       "      <td>0.0506</td>\n",
       "      <td>16892216</td>\n",
       "      <td>32.324033</td>\n",
       "    </tr>\n",
       "    <tr>\n",
       "      <th>15</th>\n",
       "      <td>189.209747</td>\n",
       "      <td>11.143827</td>\n",
       "      <td>121371892097793080</td>\n",
       "      <td>436527104</td>\n",
       "      <td>52</td>\n",
       "      <td>0.0253</td>\n",
       "      <td>0.0246</td>\n",
       "      <td>56019.069873</td>\n",
       "      <td>5</td>\n",
       "      <td>39</td>\n",
       "      <td>...</td>\n",
       "      <td>0.0451</td>\n",
       "      <td>20.5125</td>\n",
       "      <td>0.0854</td>\n",
       "      <td>16892216</td>\n",
       "      <td>19.7771</td>\n",
       "      <td>0.0757</td>\n",
       "      <td>NaN</td>\n",
       "      <td>NaN</td>\n",
       "      <td>16892216</td>\n",
       "      <td>35.027067</td>\n",
       "    </tr>\n",
       "    <tr>\n",
       "      <th>16</th>\n",
       "      <td>189.198455</td>\n",
       "      <td>11.138362</td>\n",
       "      <td>121361891984906562</td>\n",
       "      <td>436527104</td>\n",
       "      <td>52</td>\n",
       "      <td>0.0142</td>\n",
       "      <td>0.0210</td>\n",
       "      <td>55930.789572</td>\n",
       "      <td>5</td>\n",
       "      <td>64</td>\n",
       "      <td>...</td>\n",
       "      <td>0.0836</td>\n",
       "      <td>20.3398</td>\n",
       "      <td>0.0444</td>\n",
       "      <td>16892216</td>\n",
       "      <td>20.3893</td>\n",
       "      <td>0.1713</td>\n",
       "      <td>19.7571</td>\n",
       "      <td>0.1776</td>\n",
       "      <td>115000</td>\n",
       "      <td>34.519968</td>\n",
       "    </tr>\n",
       "    <tr>\n",
       "      <th>18</th>\n",
       "      <td>189.196587</td>\n",
       "      <td>11.146307</td>\n",
       "      <td>121371891966686147</td>\n",
       "      <td>436527232</td>\n",
       "      <td>52</td>\n",
       "      <td>0.0107</td>\n",
       "      <td>0.0084</td>\n",
       "      <td>55956.821725</td>\n",
       "      <td>5</td>\n",
       "      <td>69</td>\n",
       "      <td>...</td>\n",
       "      <td>0.0075</td>\n",
       "      <td>19.1493</td>\n",
       "      <td>0.0296</td>\n",
       "      <td>115000</td>\n",
       "      <td>18.8174</td>\n",
       "      <td>0.0161</td>\n",
       "      <td>18.7850</td>\n",
       "      <td>0.0374</td>\n",
       "      <td>115000</td>\n",
       "      <td>32.992949</td>\n",
       "    </tr>\n",
       "    <tr>\n",
       "      <th>...</th>\n",
       "      <td>...</td>\n",
       "      <td>...</td>\n",
       "      <td>...</td>\n",
       "      <td>...</td>\n",
       "      <td>...</td>\n",
       "      <td>...</td>\n",
       "      <td>...</td>\n",
       "      <td>...</td>\n",
       "      <td>...</td>\n",
       "      <td>...</td>\n",
       "      <td>...</td>\n",
       "      <td>...</td>\n",
       "      <td>...</td>\n",
       "      <td>...</td>\n",
       "      <td>...</td>\n",
       "      <td>...</td>\n",
       "      <td>...</td>\n",
       "      <td>...</td>\n",
       "      <td>...</td>\n",
       "      <td>...</td>\n",
       "      <td>...</td>\n",
       "    </tr>\n",
       "    <tr>\n",
       "      <th>1289</th>\n",
       "      <td>189.131256</td>\n",
       "      <td>11.332388</td>\n",
       "      <td>121591891313279504</td>\n",
       "      <td>444915712</td>\n",
       "      <td>53</td>\n",
       "      <td>0.0328</td>\n",
       "      <td>0.0384</td>\n",
       "      <td>55950.855278</td>\n",
       "      <td>5</td>\n",
       "      <td>33</td>\n",
       "      <td>...</td>\n",
       "      <td>0.0456</td>\n",
       "      <td>20.3925</td>\n",
       "      <td>0.1492</td>\n",
       "      <td>16892216</td>\n",
       "      <td>20.0088</td>\n",
       "      <td>0.2190</td>\n",
       "      <td>20.0560</td>\n",
       "      <td>0.2813</td>\n",
       "      <td>115000</td>\n",
       "      <td>35.243602</td>\n",
       "    </tr>\n",
       "    <tr>\n",
       "      <th>1294</th>\n",
       "      <td>189.076378</td>\n",
       "      <td>11.322012</td>\n",
       "      <td>121581890764186948</td>\n",
       "      <td>444915712</td>\n",
       "      <td>53</td>\n",
       "      <td>0.0284</td>\n",
       "      <td>0.0177</td>\n",
       "      <td>56106.297824</td>\n",
       "      <td>5</td>\n",
       "      <td>39</td>\n",
       "      <td>...</td>\n",
       "      <td>0.1060</td>\n",
       "      <td>19.9118</td>\n",
       "      <td>0.0853</td>\n",
       "      <td>16892216</td>\n",
       "      <td>19.7584</td>\n",
       "      <td>0.1679</td>\n",
       "      <td>19.3509</td>\n",
       "      <td>0.2390</td>\n",
       "      <td>16892216</td>\n",
       "      <td>34.719427</td>\n",
       "    </tr>\n",
       "    <tr>\n",
       "      <th>1296</th>\n",
       "      <td>189.084170</td>\n",
       "      <td>11.331124</td>\n",
       "      <td>121591890841647922</td>\n",
       "      <td>503635968</td>\n",
       "      <td>60</td>\n",
       "      <td>0.0079</td>\n",
       "      <td>0.0038</td>\n",
       "      <td>55945.014144</td>\n",
       "      <td>5</td>\n",
       "      <td>85</td>\n",
       "      <td>...</td>\n",
       "      <td>0.0089</td>\n",
       "      <td>17.5681</td>\n",
       "      <td>0.0092</td>\n",
       "      <td>115000</td>\n",
       "      <td>17.2276</td>\n",
       "      <td>0.0062</td>\n",
       "      <td>17.3006</td>\n",
       "      <td>0.0097</td>\n",
       "      <td>115000</td>\n",
       "      <td>30.563301</td>\n",
       "    </tr>\n",
       "    <tr>\n",
       "      <th>1297</th>\n",
       "      <td>189.141426</td>\n",
       "      <td>11.344718</td>\n",
       "      <td>121611891415264130</td>\n",
       "      <td>436527104</td>\n",
       "      <td>52</td>\n",
       "      <td>0.0260</td>\n",
       "      <td>0.0170</td>\n",
       "      <td>56032.989236</td>\n",
       "      <td>5</td>\n",
       "      <td>51</td>\n",
       "      <td>...</td>\n",
       "      <td>0.0385</td>\n",
       "      <td>20.4002</td>\n",
       "      <td>0.1136</td>\n",
       "      <td>16892216</td>\n",
       "      <td>20.1203</td>\n",
       "      <td>0.0898</td>\n",
       "      <td>19.7848</td>\n",
       "      <td>0.2259</td>\n",
       "      <td>115000</td>\n",
       "      <td>34.475539</td>\n",
       "    </tr>\n",
       "    <tr>\n",
       "      <th>1298</th>\n",
       "      <td>189.132849</td>\n",
       "      <td>11.347477</td>\n",
       "      <td>121611891328397496</td>\n",
       "      <td>436527104</td>\n",
       "      <td>52</td>\n",
       "      <td>0.0319</td>\n",
       "      <td>0.0290</td>\n",
       "      <td>55992.126539</td>\n",
       "      <td>5</td>\n",
       "      <td>48</td>\n",
       "      <td>...</td>\n",
       "      <td>0.0628</td>\n",
       "      <td>20.7857</td>\n",
       "      <td>0.1345</td>\n",
       "      <td>115000</td>\n",
       "      <td>20.1527</td>\n",
       "      <td>0.1663</td>\n",
       "      <td>19.5022</td>\n",
       "      <td>0.1889</td>\n",
       "      <td>16892216</td>\n",
       "      <td>34.989090</td>\n",
       "    </tr>\n",
       "  </tbody>\n",
       "</table>\n",
       "<p>371 rows × 36 columns</p>\n",
       "</div>"
      ],
      "text/plain": [
       "         RAJ2000    DEJ2000               objID    f_objID  Qual  e_RAJ2000  \\\n",
       "9     189.183498  11.133010  121361891835630129  436527104    52     0.0040   \n",
       "10    189.175247  11.123413  121341891753558700  444915712    53     0.0084   \n",
       "15    189.209747  11.143827  121371892097793080  436527104    52     0.0253   \n",
       "16    189.198455  11.138362  121361891984906562  436527104    52     0.0142   \n",
       "18    189.196587  11.146307  121371891966686147  436527232    52     0.0107   \n",
       "...          ...        ...                 ...        ...   ...        ...   \n",
       "1289  189.131256  11.332388  121591891313279504  444915712    53     0.0328   \n",
       "1294  189.076378  11.322012  121581890764186948  444915712    53     0.0284   \n",
       "1296  189.084170  11.331124  121591890841647922  503635968    60     0.0079   \n",
       "1297  189.141426  11.344718  121611891415264130  436527104    52     0.0260   \n",
       "1298  189.132849  11.347477  121611891328397496  436527104    52     0.0319   \n",
       "\n",
       "      e_DEJ2000      _tab1_10  Ns  Nd  ...  e_zmag    zKmag  e_zKmag  \\\n",
       "9        0.0055  55903.662141   5  76  ...  0.0052  17.9549   0.0133   \n",
       "10       0.0110  55949.728160   5  81  ...  0.0694  19.2705   0.0187   \n",
       "15       0.0246  56019.069873   5  39  ...  0.0451  20.5125   0.0854   \n",
       "16       0.0210  55930.789572   5  64  ...  0.0836  20.3398   0.0444   \n",
       "18       0.0084  55956.821725   5  69  ...  0.0075  19.1493   0.0296   \n",
       "...         ...           ...  ..  ..  ...     ...      ...      ...   \n",
       "1289     0.0384  55950.855278   5  33  ...  0.0456  20.3925   0.1492   \n",
       "1294     0.0177  56106.297824   5  39  ...  0.1060  19.9118   0.0853   \n",
       "1296     0.0038  55945.014144   5  85  ...  0.0089  17.5681   0.0092   \n",
       "1297     0.0170  56032.989236   5  51  ...  0.0385  20.4002   0.1136   \n",
       "1298     0.0290  55992.126539   5  48  ...  0.0628  20.7857   0.1345   \n",
       "\n",
       "        zFlags     ymag  e_ymag    yKmag  e_yKmag    yFlags       tmag  \n",
       "9       115000  17.7976  0.0067  17.9086   0.0182    115000  29.776195  \n",
       "10    16892216  19.5078  0.0757  19.1853   0.0506  16892216  32.324033  \n",
       "15    16892216  19.7771  0.0757      NaN      NaN  16892216  35.027067  \n",
       "16    16892216  20.3893  0.1713  19.7571   0.1776    115000  34.519968  \n",
       "18      115000  18.8174  0.0161  18.7850   0.0374    115000  32.992949  \n",
       "...        ...      ...     ...      ...      ...       ...        ...  \n",
       "1289  16892216  20.0088  0.2190  20.0560   0.2813    115000  35.243602  \n",
       "1294  16892216  19.7584  0.1679  19.3509   0.2390  16892216  34.719427  \n",
       "1296    115000  17.2276  0.0062  17.3006   0.0097    115000  30.563301  \n",
       "1297  16892216  20.1203  0.0898  19.7848   0.2259    115000  34.475539  \n",
       "1298    115000  20.1527  0.1663  19.5022   0.1889  16892216  34.989090  \n",
       "\n",
       "[371 rows x 36 columns]"
      ]
     },
     "execution_count": 19,
     "metadata": {},
     "output_type": "execute_result"
    }
   ],
   "source": [
    "result"
   ]
  },
  {
   "cell_type": "code",
   "execution_count": null,
   "metadata": {},
   "outputs": [],
   "source": []
  },
  {
   "cell_type": "code",
   "execution_count": null,
   "metadata": {},
   "outputs": [],
   "source": [
    "np.sqrt((posp[0,0]-posg[0,0])**2 + (posp[0,1]-posg[0,1])**2)"
   ]
  },
  {
   "cell_type": "code",
   "execution_count": null,
   "metadata": {},
   "outputs": [],
   "source": [
    "print(Tmagg[0],Tmagp[0])"
   ]
  },
  {
   "cell_type": "code",
   "execution_count": null,
   "metadata": {},
   "outputs": [],
   "source": [
    "for i in range(len(posg)):\n",
    "    dist = np.sqrt((posp[i,0]-posg[:,0])**2 + (posp[i,1]-posg[:,1])**2)\n",
    "    dist = dist > 0.001\n",
    "    for j in range(sum(dist)):\n",
    "        if abs(Tmagg[i] - Tmagp[dist]) > .1:\n",
    "            ind += []"
   ]
  },
  {
   "cell_type": "code",
   "execution_count": null,
   "metadata": {},
   "outputs": [],
   "source": [
    "posp"
   ]
  },
  {
   "cell_type": "code",
   "execution_count": null,
   "metadata": {},
   "outputs": [],
   "source": [
    "posg"
   ]
  },
  {
   "cell_type": "code",
   "execution_count": null,
   "metadata": {},
   "outputs": [],
   "source": [
    "cus = np.ones_like(tpf.flux[0])\n",
    "#cus[20:29,20:29] = 0\n",
    "cus[22:30,22:30] = 0\n",
    "bkg = sd.Scene_bkg_estimate(scene,tpf,Limit=.3,Custom_mask=cus)\n",
    "\n",
    "flux = tpf.flux - bkg\n",
    "#flux[flux == 0] = np.nan"
   ]
  },
  {
   "cell_type": "code",
   "execution_count": null,
   "metadata": {},
   "outputs": [],
   "source": [
    "plt.figure()\n",
    "plt.imshow(bkg[1000],origin='lower',vmax=200)\n",
    "plt.colorbar()\n",
    "plt.figure()\n",
    "plt.imshow(flux[1000],origin='lower',vmax=100)\n",
    "plt.colorbar()"
   ]
  },
  {
   "cell_type": "code",
   "execution_count": null,
   "metadata": {},
   "outputs": [],
   "source": []
  },
  {
   "cell_type": "code",
   "execution_count": null,
   "metadata": {},
   "outputs": [],
   "source": [
    "plt.figure()\n",
    "#plt.plot(tpf.astropy_time.mjd,tpf.flux[:,15,15])\n",
    "plt.plot(tpf.astropy_time.mjd,flux[:,24,26],'.')\n",
    "plt.axvline(58930,c='k')"
   ]
  },
  {
   "cell_type": "code",
   "execution_count": null,
   "metadata": {},
   "outputs": [],
   "source": [
    "plt.figure()\n",
    "#for i in range(15):\n",
    "plt.plot(tpf.astropy_time.mjd,flux[:,26,26],'.',label=str(i))\n",
    "plt.axvline(58930,c='k')\n",
    "plt.legend()"
   ]
  },
  {
   "cell_type": "code",
   "execution_count": null,
   "metadata": {},
   "outputs": [],
   "source": [
    "pos, Tmag = sd.Get_PS1(tpf,magnitude_limit=18)\n",
    "pos_shift = pos+.5\n",
    "ind = ((2< pos_shift[:,0]) & (pos_shift[:,0]< tpf.shape[1]-2) & \n",
    "      (2< pos_shift[:,1]) & (pos_shift[:,1]< tpf.shape[1]-2) &\n",
    "      (Tmag < 16))\n",
    "p = pos_shift[ind,:]"
   ]
  },
  {
   "cell_type": "code",
   "execution_count": null,
   "metadata": {},
   "outputs": [],
   "source": [
    "distance= np.zeros([len(p),len(p)])\n",
    "for i in range(len(p)):\n",
    "    distance[i] = np.sqrt((p[i,0] - p[:,0])**2 + (p[i,1] - p[:,1])**2)\n",
    "distance[distance==0] = np.nan"
   ]
  },
  {
   "cell_type": "code",
   "execution_count": null,
   "metadata": {},
   "outputs": [],
   "source": [
    "def Isolated_stars(pos,Tmag,flux,sources, Distance = 7, Mag = 16):\n",
    "    \"\"\"\n",
    "    Find isolated stars in the scene.\n",
    "    \"\"\"\n",
    "    #pos, Tmag = sd.Get_PS1(tpf,magnitude_limit=18)\n",
    "    pos_shift = pos+.5\n",
    "    ind = ((2< pos_shift[:,0]) & (pos_shift[:,0]< flux.shape[1]-2) & \n",
    "          (2< pos_shift[:,1]) & (pos_shift[:,1]< flux.shape[1]-2) &\n",
    "          (Tmag < Mag))\n",
    "    if ~ind.any():\n",
    "        raise ValueError('No sources brighter than {} Tmag.'.format(Mag))\n",
    "    p = pos_shift[ind,:]\n",
    "    distance= np.zeros([len(p),len(p)])\n",
    "    for i in range(len(p)):\n",
    "        distance[i] = np.sqrt((p[i,0] - p[:,0])**2 + (p[i,1] - p[:,1])**2)\n",
    "    distance[distance==0] = np.nan\n",
    "    mins = np.nanmin(distance,axis=1)\n",
    "    iso = p[mins > Distance]\n",
    "    iso = iso.astype('int')\n",
    "    iso_s = scene[ind]\n",
    "    iso_s = iso_s[mins > Distance]\n",
    "    median = np.nanmedian(flux,axis=0)\n",
    "    if len(iso)> 0:\n",
    "        clips = []\n",
    "        if (Distance % 2) ==0:\n",
    "            d = Distance - 1\n",
    "        else:\n",
    "            d = Distance\n",
    "        u = d//2 +1 \n",
    "        l = d //2 \n",
    "        \n",
    "        for i in range(len(iso)):\n",
    "            clips += [[iso_s[i,iso[i,1]-l:iso[i,1]+u,iso[i,0]-l:iso[i,0]+u],\n",
    "                     median[iso[i,1]-l:iso[i,1]+u,iso[i,0]-l:iso[i,0]+u]]]\n",
    "        clips=np.array(clips)\n",
    "    else:\n",
    "        raise ValueError('No stars brighter than {} Tmag and isolated by {} pix. Concider lowering brightness.'.format(Mag,Distance))\n",
    "    return clips"
   ]
  },
  {
   "cell_type": "code",
   "execution_count": null,
   "metadata": {},
   "outputs": [],
   "source": [
    "pos, Tmag = sd.Get_PS1(tpf,magnitude_limit=18)\n",
    "iso = Isolated_stars(pos,Tmag,flux,scene,Mag=16)"
   ]
  },
  {
   "cell_type": "code",
   "execution_count": null,
   "metadata": {},
   "outputs": [],
   "source": [
    "len(iso)"
   ]
  },
  {
   "cell_type": "code",
   "execution_count": null,
   "metadata": {},
   "outputs": [],
   "source": [
    "plt.figure()\n",
    "\n",
    "plt.imshow(iso[2,1],origin='')"
   ]
  },
  {
   "cell_type": "code",
   "execution_count": null,
   "metadata": {},
   "outputs": [],
   "source": [
    "def Isolated_kernals(Sources,Size=5,Scenes = False,Median = True):\n",
    "    '''\n",
    "    Calculate the Delta convolution kernals for isolated sources.\n",
    "    \n",
    "    -------\n",
    "    Inputs-\n",
    "    -------\n",
    "        Sources  array   n x 2 array of images. 0 is scene, 1 is observation\n",
    "        Size     int     Size of the delta kernal\n",
    "    --------\n",
    "    Options-\n",
    "    --------\n",
    "        Scenes   bool  If True, it uses the provided scene as the template\n",
    "        Median   bool  If True, returns the median of all delta kernals\n",
    "        \n",
    "    -------\n",
    "    Output-\n",
    "    -------\n",
    "        Kernals  array  If Median == True, returns single kernal, if not, \n",
    "                        returns n kernal array\n",
    "        \n",
    "    '''\n",
    "    kernals = []\n",
    "    for i in range(len(Sources)):\n",
    "        star = Sources[i,1]\n",
    "        if scenes:\n",
    "            blank = Sources[i,0]\n",
    "        else:\n",
    "            blank = np.zeros_like(test)\n",
    "            blank[blank.shape[0]//2+1,blank.shape[1]//2+1] = np.nansum(test)\n",
    "        k = Delta_kernal(blank,test,Size=Size,Normalise=False)\n",
    "        kernals += [k]\n",
    "    kernals = np.array(kernals)\n",
    "    if Median:\n",
    "        return np.nanmedian(kernals,axis=0)\n",
    "    else:\n",
    "        return kernals"
   ]
  },
  {
   "cell_type": "code",
   "execution_count": null,
   "metadata": {},
   "outputs": [],
   "source": [
    "k = Isolated_kernals(iso)"
   ]
  },
  {
   "cell_type": "code",
   "execution_count": null,
   "metadata": {},
   "outputs": [],
   "source": [
    "plt.figure()\n",
    "plt.imshow(k,origin='')\n",
    "plt.colorbar()"
   ]
  },
  {
   "cell_type": "code",
   "execution_count": null,
   "metadata": {},
   "outputs": [],
   "source": [
    "blank = np.zeros_like(test)\n",
    "blank[blank.shape[0]//2+1,blank.shape[1]//2+1] = np.nansum(test)"
   ]
  },
  {
   "cell_type": "code",
   "execution_count": null,
   "metadata": {},
   "outputs": [],
   "source": [
    "k = Delta_kernal(blank,test,Size=5,Normalise=False)"
   ]
  },
  {
   "cell_type": "code",
   "execution_count": null,
   "metadata": {},
   "outputs": [],
   "source": [
    "def Delta_kernal(Scene,Image,Size=13,Normalise=True):\n",
    "\tBasis, coeff_0 = dk.Delta_basis(Size)\n",
    "\tbds = []\n",
    "\tfor i in range(len(coeff_0)):\n",
    "\t\tbds += [(0,1)]\n",
    "\tres = dk.minimize(dk.optimize_delta, coeff_0, args=(Basis,Scene,Image,Normalise),\n",
    "\t\t\t\t   bounds=bds,options={'disp': True})\n",
    "\tk = np.nansum(res.x[:,np.newaxis,np.newaxis]*Basis,axis=0)\n",
    "\treturn k\n",
    "\n",
    "def Convolve_image(Image,Kernal):\n",
    "\ttemplate = dk.signal.fftconvolve(Image, Kernal, mode='same')\n",
    "\treturn template"
   ]
  },
  {
   "cell_type": "code",
   "execution_count": null,
   "metadata": {},
   "outputs": [],
   "source": [
    "eh = Convolve_image(blank,k)"
   ]
  },
  {
   "cell_type": "code",
   "execution_count": null,
   "metadata": {},
   "outputs": [],
   "source": [
    "np.max(blank)"
   ]
  },
  {
   "cell_type": "code",
   "execution_count": null,
   "metadata": {},
   "outputs": [],
   "source": [
    "plt.figure()\n",
    "plt.imshow(k,origin='')\n",
    "plt.colorbar()\n",
    "plt.figure()\n",
    "plt.imshow(eh-test,origin='')\n",
    "plt.colorbar()"
   ]
  },
  {
   "cell_type": "code",
   "execution_count": null,
   "metadata": {},
   "outputs": [],
   "source": [
    "np.nansum(eh-test)"
   ]
  },
  {
   "cell_type": "code",
   "execution_count": null,
   "metadata": {},
   "outputs": [],
   "source": [
    "iso = p[mins > 4]\n",
    "iso = iso.astype('int')\n",
    "iso_s = scene[ind]\n",
    "iso_s = iso_s[mins > 4]"
   ]
  },
  {
   "cell_type": "code",
   "execution_count": null,
   "metadata": {},
   "outputs": [],
   "source": [
    "iso"
   ]
  },
  {
   "cell_type": "code",
   "execution_count": null,
   "metadata": {},
   "outputs": [],
   "source": [
    "from photutils import psf"
   ]
  },
  {
   "cell_type": "code",
   "execution_count": null,
   "metadata": {},
   "outputs": [],
   "source": []
  },
  {
   "cell_type": "code",
   "execution_count": null,
   "metadata": {},
   "outputs": [],
   "source": [
    "plt.figure()\n",
    "plt.subplot(1,2,1)\n",
    "plt.imshow(clips[2,0],origin='')\n",
    "plt.colorbar()\n",
    "plt.subplot(1,2,2)\n",
    "plt.imshow(clips[2,1],origin='')\n",
    "plt.colorbar()"
   ]
  },
  {
   "cell_type": "code",
   "execution_count": null,
   "metadata": {},
   "outputs": [],
   "source": [
    "kernals = []\n",
    "for i in range(clips.shape[0]):\n",
    "    kernals += [Delta_kernal(clips[i,0],clips[i,1],Size=5)]\n",
    "kernals = np.array(kernals)"
   ]
  },
  {
   "cell_type": "code",
   "execution_count": null,
   "metadata": {
    "scrolled": true
   },
   "outputs": [],
   "source": [
    "for i in kernals:\n",
    "    plt.figure()\n",
    "    plt.imshow(i,origin='')\n",
    "    plt.colorbar()"
   ]
  },
  {
   "cell_type": "code",
   "execution_count": null,
   "metadata": {},
   "outputs": [],
   "source": [
    "plt.figure()\n",
    "plt.imshow(np.nanmedian(kernals,axis=0),origin='',vmax=.1)\n",
    "plt.colorbar()"
   ]
  },
  {
   "cell_type": "code",
   "execution_count": null,
   "metadata": {},
   "outputs": [],
   "source": [
    "np.nansum(kernal)"
   ]
  },
  {
   "cell_type": "code",
   "execution_count": null,
   "metadata": {},
   "outputs": [],
   "source": [
    "kernal = np.nanmedian(kernals,axis=0)\n",
    "kernal = kernal / np.nansum(kernal)\n",
    "template = dk.signal.fftconvolve(np.nansum(scene,axis=0), kernal, mode='same')"
   ]
  },
  {
   "cell_type": "code",
   "execution_count": null,
   "metadata": {},
   "outputs": [],
   "source": [
    "plt.figure()\n",
    "plt.imshow(median-template,origin='',vmax = 100)\n",
    "plt.colorbar()"
   ]
  },
  {
   "cell_type": "code",
   "execution_count": null,
   "metadata": {},
   "outputs": [],
   "source": [
    "test = flux - template"
   ]
  },
  {
   "cell_type": "code",
   "execution_count": null,
   "metadata": {},
   "outputs": [],
   "source": [
    "plt.figure()\n",
    "plt.plot(flux[:,15,15])\n",
    "plt.plot(test[:,15,15])"
   ]
  },
  {
   "cell_type": "code",
   "execution_count": null,
   "metadata": {},
   "outputs": [],
   "source": [
    "t=tpf.astropy_time.mjd\n",
    "plt.figure(figsize=(8,4))\n",
    "plt.suptitle('2020amx\\n',fontsize=15)\n",
    "plt.subplot(1,3,1)\n",
    "plt.title('Raw data')\n",
    "plt.plot(t,tpf.flux[:,15,15],'.')\n",
    "plt.ylabel('Counts')\n",
    "plt.subplot(1,3,2)\n",
    "plt.title(' $1- $Syndiff bkg')\n",
    "plt.plot(t,flux[:,15,15],'.')\n",
    "plt.xlabel('MJD')\n",
    "plt.subplot(1,3,3)\n",
    "plt.title(' $2-$ PS1 catalog scene')\n",
    "plt.plot(t,test[:,15,15],'.')\n",
    "plt.savefig('2020amx_sndiff_test.pdf')\n"
   ]
  },
  {
   "cell_type": "code",
   "execution_count": null,
   "metadata": {},
   "outputs": [],
   "source": [
    "def Delta_kernal(Scene,Image,Size=13):\n",
    "\tBasis, coeff_0 = dk.Delta_basis(Size)\n",
    "\tbds = []\n",
    "\tfor i in range(len(coeff_0)):\n",
    "\t\tbds += [(0,1)]\n",
    "\tres = dk.minimize(optimize_delta, coeff_0, args=(Basis,Scene,Image),\n",
    "\t\t\t\t   bounds=bds,options={'disp': True})\n",
    "\tk = np.nansum(res.x[:,np.newaxis,np.newaxis]*Basis,axis=0)\n",
    "\treturn k\n",
    "\n",
    "def optimize_delta(Coeff, Basis, Scene, TESS, Normalise = True, Offset = False):\n",
    "\tKernal = np.nansum(Coeff[:,np.newaxis,np.newaxis]*Basis,axis=0)\n",
    "\ttemplate = dk.signal.fftconvolve(Scene, Kernal, mode='same')\n",
    "\tif Offset:\n",
    "\t\ttemplate = template[offset1:int(3*offset1),offset2-1:int(3*offset2-1)]\n",
    "\n",
    "\tif Normalise:\n",
    "\t\ttemplate = template / np.nanmax(template)\n",
    "\t\ttess = TESS.copy() / np.nanmax(TESS)\n",
    "\telse:\n",
    "\t\ttemplate = template \n",
    "\t\ttess = TESS.copy()\n",
    "\t\n",
    "\treturn np.nansum(abs(tess - template))"
   ]
  },
  {
   "cell_type": "code",
   "execution_count": null,
   "metadata": {},
   "outputs": [],
   "source": [
    "def PS1_to_TESS_mag(PS1):\n",
    "    g = PS1.gKmag.values\n",
    "    i = PS1.iKmag.values\n",
    "    t = i - 0.00206*(g - i)**3 - 0.02370*(g - i)**2 + 0.00573*(g - i) - 0.3078\n",
    "    PS1['tmag'] = t\n",
    "    return PS1"
   ]
  },
  {
   "cell_type": "code",
   "execution_count": null,
   "metadata": {},
   "outputs": [],
   "source": [
    "def Get_PS1(tpf, magnitude_limit = 18, Offset = 10):\n",
    "    \"\"\"\n",
    "    Get the coordinates and mag of all PS1 sources in the field of view.\n",
    "\n",
    "    -------\n",
    "    Inputs-\n",
    "    -------\n",
    "        tpf \t\t\t\tclass \ttarget pixel file lightkurve class\n",
    "        magnitude_limit \tfloat \tcutoff for Gaia sources\n",
    "        Offset \t\t\t\tint \toffset for the boundary \n",
    "\n",
    "    --------\n",
    "    Outputs-\n",
    "    --------\n",
    "        coords \tarray\tcoordinates of sources\n",
    "        Gmag \tarray \tGmags of sources\n",
    "    \"\"\"\n",
    "    result =  Get_Catalogue(tpf, magnitude_limit = magnitude_limit, Offset = Offset, Catalog = 'ps1')\n",
    "    result = result[np.isfinite(result.gKmag) & np.isfinite(result.iKmag)]\n",
    "    result = PS1_to_TESS_mag(result)\n",
    "    \n",
    "    \n",
    "    result = result[result.tmag < magnitude_limit]\n",
    "    if len(result) == 0:\n",
    "        raise no_targets_found_message\n",
    "    radecs = np.vstack([result['RAJ2000'], result['DEJ2000']]).T\n",
    "    coords = tpf.wcs.all_world2pix(radecs, 0) ## TODO, is origin supposed to be zero or one?\n",
    "    Tessmag = PS1['tmag'].values\n",
    "    #Jmag = result['Jmag']\n",
    "    ind = (((coords[:,0] >= -10) & (coords[:,1] >= -10)) & \n",
    "           ((coords[:,0] < (tpf.shape[1] + 10)) & (coords[:,1] < (tpf.shape[2] + 10))))\n",
    "    coords = coords[ind]\n",
    "    Tessmag = Tessmag[ind]\n",
    "    #Jmag = Jmag[ind]\n",
    "    return coords, Tessmag"
   ]
  },
  {
   "cell_type": "code",
   "execution_count": null,
   "metadata": {},
   "outputs": [],
   "source": [
    "def PS1_to_TESS_mag(ra, dec, size):\n",
    "    \n",
    "    #ps_x = image array in flux vals\n",
    "    ps_g, wcs = Get_PS1(ra, dec, size, 'g')\n",
    "    ps_i, wcs = Get_PS1(ra, dec, size, 'i')\n",
    "    \n",
    "    limiting_g = np.power(10, -(22 - 25)/2.5)\n",
    "    limiting_i = np.power(10, -(21.5 - 25)/2.5)\n",
    "    \n",
    "    ps_g[ps_g <= 0] = limiting_g\n",
    "    ps_i[ps_i <= 0] = limiting_i\n",
    "    \n",
    "    #Convert image to mags\n",
    "    ps_g_mag = -2.5*np.log10(ps_g) + 25\n",
    "    ps_i_mag = -2.5*np.log10(ps_i) + 25\n",
    "    \n",
    "    #Add together in accordance to https://arxiv.org/pdf/1706.00495.pdf pg.9\n",
    "    #Calculate synthetic magnitude for TESS\n",
    "    syn_tess_mag = (- 0.00206*np.power(ps_g_mag-ps_i_mag, 3) \n",
    "                    - 0.02370*np.power(ps_g_mag-ps_i_mag, 2) \n",
    "                    + 0.00573*(ps_g_mag-ps_i_mag) \n",
    "                    + ps_i_mag - 0.3078)\n",
    "    #And now the flux\n",
    "    syn_tess_cts = np.power(10, -(syn_tess_mag -20.44)/2.5)\n",
    "    #print(np.nanmean(syn_tess_mag))\n",
    "    \n",
    "    return syn_tess_cts, wcs"
   ]
  },
  {
   "cell_type": "code",
   "execution_count": null,
   "metadata": {},
   "outputs": [],
   "source": [
    "i − 0.00206*(g − i)**3 − 0.02370*(g − i)**2 + 0.00573*(g − i) − 0.3078"
   ]
  },
  {
   "cell_type": "code",
   "execution_count": null,
   "metadata": {},
   "outputs": [],
   "source": [
    "res = sd.Get_Catalogue(tpf,Catalog = 'ps1')"
   ]
  },
  {
   "cell_type": "code",
   "execution_count": null,
   "metadata": {},
   "outputs": [],
   "source": [
    "res.keys()"
   ]
  },
  {
   "cell_type": "code",
   "execution_count": null,
   "metadata": {},
   "outputs": [],
   "source": []
  }
 ],
 "metadata": {
  "kernelspec": {
   "display_name": "Python 3",
   "language": "python",
   "name": "python3"
  },
  "language_info": {
   "codemirror_mode": {
    "name": "ipython",
    "version": 3
   },
   "file_extension": ".py",
   "mimetype": "text/x-python",
   "name": "python",
   "nbconvert_exporter": "python",
   "pygments_lexer": "ipython3",
   "version": "3.7.3"
  }
 },
 "nbformat": 4,
 "nbformat_minor": 4
}
