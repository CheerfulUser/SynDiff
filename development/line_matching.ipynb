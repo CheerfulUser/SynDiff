{
 "cells": [
  {
   "cell_type": "code",
   "execution_count": 11,
   "id": "f1abb320",
   "metadata": {},
   "outputs": [],
   "source": [
    "from astropy.io import fits\n",
    "from astropy.wcs import WCS\n",
    "from glob import glob\n",
    "import numpy as np"
   ]
  },
  {
   "cell_type": "code",
   "execution_count": 7,
   "id": "4e9489a4",
   "metadata": {},
   "outputs": [
    {
     "name": "stderr",
     "output_type": "stream",
     "text": [
      "WARNING: FITSFixedWarning: PC001001= -1. \n",
      "this form of the PCi_ja keyword is deprecated, use PCi_ja. [astropy.wcs.wcs]\n",
      "WARNING: FITSFixedWarning: PC001002= 0. \n",
      "this form of the PCi_ja keyword is deprecated, use PCi_ja. [astropy.wcs.wcs]\n",
      "WARNING: FITSFixedWarning: PC002001= 0. \n",
      "this form of the PCi_ja keyword is deprecated, use PCi_ja. [astropy.wcs.wcs]\n",
      "WARNING: FITSFixedWarning: PC002002= 1. \n",
      "this form of the PCi_ja keyword is deprecated, use PCi_ja. [astropy.wcs.wcs]\n",
      "WARNING: FITSFixedWarning: 'datfix' made the change 'Set DATE-OBS to '2013-04-18T19:52:47.053' from MJD-OBS'. [astropy.wcs.wcs]\n"
     ]
    }
   ],
   "source": [
    "thdu = fits.open('data/tess2019360165923-s0020-1-1-0165-s_ffic.fits')\n",
    "phdu = fits.open('data/ps1_skycell/rings.v3.skycell.2180.097.stk.r.unconv.fits')\n",
    "twcs = WCS(thdu[1].header)\n",
    "pwcs = WCS(phdu[0].header)"
   ]
  },
  {
   "cell_type": "code",
   "execution_count": 27,
   "id": "3568f87a",
   "metadata": {},
   "outputs": [
    {
     "data": {
      "text/plain": [
       "48.48732213850612"
      ]
     },
     "execution_count": 27,
     "metadata": {},
     "output_type": "execute_result"
    }
   ],
   "source": [
    "0.4/2*np.sqrt(2) * 60**2 /21"
   ]
  },
  {
   "cell_type": "code",
   "execution_count": 13,
   "id": "68cf0077",
   "metadata": {},
   "outputs": [],
   "source": [
    "\n",
    "#tpix_c = "
   ]
  },
  {
   "cell_type": "code",
   "execution_count": 14,
   "id": "ed41b15c",
   "metadata": {},
   "outputs": [
    {
     "data": {
      "text/plain": [
       "array([[   0,    1,    2, ..., 2133, 2134, 2135],\n",
       "       [   0,    1,    2, ..., 2133, 2134, 2135],\n",
       "       [   0,    1,    2, ..., 2133, 2134, 2135],\n",
       "       ...,\n",
       "       [   0,    1,    2, ..., 2133, 2134, 2135],\n",
       "       [   0,    1,    2, ..., 2133, 2134, 2135],\n",
       "       [   0,    1,    2, ..., 2133, 2134, 2135]])"
      ]
     },
     "execution_count": 14,
     "metadata": {},
     "output_type": "execute_result"
    }
   ],
   "source": [
    "x"
   ]
  },
  {
   "cell_type": "code",
   "execution_count": 18,
   "id": "0b20939e",
   "metadata": {},
   "outputs": [],
   "source": [
    "pra,pdec = pwcs.all_pix2world(phdu[0].data.shape[1]/2,phdu[0].data.shape[0]/2,0)"
   ]
  },
  {
   "cell_type": "code",
   "execution_count": 23,
   "id": "ab727194",
   "metadata": {},
   "outputs": [],
   "source": [
    "tx,ty = twcs.all_world2pix(pra,pdec,0)"
   ]
  },
  {
   "cell_type": "code",
   "execution_count": 24,
   "id": "940f5224",
   "metadata": {},
   "outputs": [
    {
     "data": {
      "text/plain": [
       "array(987.7654143)"
      ]
     },
     "execution_count": 24,
     "metadata": {},
     "output_type": "execute_result"
    }
   ],
   "source": [
    "tx"
   ]
  },
  {
   "cell_type": "code",
   "execution_count": null,
   "id": "3453866f",
   "metadata": {},
   "outputs": [],
   "source": [
    "txs "
   ]
  }
 ],
 "metadata": {
  "kernelspec": {
   "display_name": "Python 3 (ipykernel)",
   "language": "python",
   "name": "python3"
  },
  "language_info": {
   "codemirror_mode": {
    "name": "ipython",
    "version": 3
   },
   "file_extension": ".py",
   "mimetype": "text/x-python",
   "name": "python",
   "nbconvert_exporter": "python",
   "pygments_lexer": "ipython3",
   "version": "3.12.2"
  }
 },
 "nbformat": 4,
 "nbformat_minor": 5
}
