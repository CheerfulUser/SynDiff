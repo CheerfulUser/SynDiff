{
 "cells": [
  {
   "cell_type": "code",
   "execution_count": 1,
   "id": "99b48001",
   "metadata": {},
   "outputs": [],
   "source": [
    "import numpy as np\n",
    "from astropy.coordinates import Angle, SkyCoord\n",
    "import astropy.units as u\n",
    "from astropy.io import fits\n",
    "from astropy.wcs import WCS\n",
    "import matplotlib.pyplot as plt\n",
    "\n",
    "import pandas as pd\n",
    "\n",
    "from glob import glob"
   ]
  },
  {
   "cell_type": "code",
   "execution_count": 2,
   "id": "9021c01a",
   "metadata": {},
   "outputs": [],
   "source": [
    "skycells = pd.read_csv('../SkyCells/Sector020/skycell_s20_c1.csv')"
   ]
  },
  {
   "cell_type": "code",
   "execution_count": 24,
   "id": "dfcd6a2b",
   "metadata": {},
   "outputs": [
    {
     "name": "stderr",
     "output_type": "stream",
     "text": [
      "WARNING: FITSFixedWarning: PC001001= -1. \n",
      "this form of the PCi_ja keyword is deprecated, use PCi_ja. [astropy.wcs.wcs]\n",
      "WARNING: FITSFixedWarning: PC001002= 0. \n",
      "this form of the PCi_ja keyword is deprecated, use PCi_ja. [astropy.wcs.wcs]\n",
      "WARNING: FITSFixedWarning: PC002001= 0. \n",
      "this form of the PCi_ja keyword is deprecated, use PCi_ja. [astropy.wcs.wcs]\n",
      "WARNING: FITSFixedWarning: PC002002= 1. \n",
      "this form of the PCi_ja keyword is deprecated, use PCi_ja. [astropy.wcs.wcs]\n",
      "WARNING: FITSFixedWarning: 'datfix' made the change 'Set DATE-OBS to '2013-05-19T07:45:55.897' from MJD-OBS'. [astropy.wcs.wcs]\n"
     ]
    }
   ],
   "source": [
    "ps1_files = glob('../data/ps1_skycell/*.039*r.unconv.fits')\n",
    "wcs = WCS(ps1_files[0])"
   ]
  },
  {
   "cell_type": "code",
   "execution_count": 25,
   "id": "bdf64c47",
   "metadata": {},
   "outputs": [
    {
     "data": {
      "text/plain": [
       "['../data/ps1_skycell/rings.v3.skycell.2247.039.stk.r.unconv.fits']"
      ]
     },
     "execution_count": 25,
     "metadata": {},
     "output_type": "execute_result"
    }
   ],
   "source": [
    "ps1_files"
   ]
  },
  {
   "cell_type": "code",
   "execution_count": 23,
   "id": "c9387bf5",
   "metadata": {},
   "outputs": [
    {
     "data": {
      "text/html": [
       "<div>\n",
       "<style scoped>\n",
       "    .dataframe tbody tr th:only-of-type {\n",
       "        vertical-align: middle;\n",
       "    }\n",
       "\n",
       "    .dataframe tbody tr th {\n",
       "        vertical-align: top;\n",
       "    }\n",
       "\n",
       "    .dataframe thead th {\n",
       "        text-align: right;\n",
       "    }\n",
       "</style>\n",
       "<table border=\"1\" class=\"dataframe\">\n",
       "  <thead>\n",
       "    <tr style=\"text-align: right;\">\n",
       "      <th></th>\n",
       "      <th>Name</th>\n",
       "      <th>Dist</th>\n",
       "      <th>RA</th>\n",
       "      <th>DEC</th>\n",
       "      <th>RA_Corner1</th>\n",
       "      <th>DEC_Corner1</th>\n",
       "      <th>RA_Corner2</th>\n",
       "      <th>DEC_Corner2</th>\n",
       "      <th>RA_Corner3</th>\n",
       "      <th>DEC_Corner3</th>\n",
       "      <th>RA_Corner4</th>\n",
       "      <th>DEC_Corner4</th>\n",
       "    </tr>\n",
       "  </thead>\n",
       "  <tbody>\n",
       "    <tr>\n",
       "      <th>1022</th>\n",
       "      <td>skycell.2247.039</td>\n",
       "      <td>1.262793</td>\n",
       "      <td>121.928889</td>\n",
       "      <td>45.394792</td>\n",
       "      <td>122.147847</td>\n",
       "      <td>45.176458</td>\n",
       "      <td>122.147847</td>\n",
       "      <td>45.613194</td>\n",
       "      <td>121.709861</td>\n",
       "      <td>45.613194</td>\n",
       "      <td>121.709861</td>\n",
       "      <td>45.176458</td>\n",
       "    </tr>\n",
       "  </tbody>\n",
       "</table>\n",
       "</div>"
      ],
      "text/plain": [
       "                  Name      Dist          RA        DEC  RA_Corner1  \\\n",
       "1022  skycell.2247.039  1.262793  121.928889  45.394792  122.147847   \n",
       "\n",
       "      DEC_Corner1  RA_Corner2  DEC_Corner2  RA_Corner3  DEC_Corner3  \\\n",
       "1022    45.176458  122.147847    45.613194  121.709861    45.613194   \n",
       "\n",
       "      RA_Corner4  DEC_Corner4  \n",
       "1022  121.709861    45.176458  "
      ]
     },
     "execution_count": 23,
     "metadata": {},
     "output_type": "execute_result"
    }
   ],
   "source": [
    "skycells[skycells['Name'] == 'skycell.2247.039']"
   ]
  },
  {
   "cell_type": "code",
   "execution_count": 21,
   "id": "d86e8223",
   "metadata": {},
   "outputs": [
    {
     "data": {
      "text/plain": [
       "array([[121.47862638,  45.15399851],\n",
       "       [121.4608439 ,  45.59026499],\n",
       "       [120.83611135,  45.576075  ],\n",
       "       [120.85873206,  45.14002519]])"
      ]
     },
     "execution_count": 21,
     "metadata": {},
     "output_type": "execute_result"
    }
   ],
   "source": [
    "wcs.calc_footprint()"
   ]
  },
  {
   "cell_type": "code",
   "execution_count": 11,
   "id": "6a8cf15f",
   "metadata": {},
   "outputs": [],
   "source": [
    "corner1 = SkyCoord(skycells['RA_Corner1'].values,skycells['DEC_Corner1'].values,unit='deg')\n",
    "corner2 = SkyCoord(skycells['RA_Corner2'].values,skycells['DEC_Corner2'].values,unit='deg')\n",
    "corner3 = SkyCoord(skycells['RA_Corner3'].values,skycells['DEC_Corner3'].values,unit='deg')\n",
    "corner4 = SkyCoord(skycells['RA_Corner4'].values,skycells['DEC_Corner4'].values,unit='deg')"
   ]
  },
  {
   "cell_type": "code",
   "execution_count": 18,
   "id": "1059ffd7",
   "metadata": {},
   "outputs": [
    {
     "ename": "NameError",
     "evalue": "name 'corner5' is not defined",
     "output_type": "error",
     "traceback": [
      "\u001b[0;31m---------------------------------------------------------------------------\u001b[0m",
      "\u001b[0;31mNameError\u001b[0m                                 Traceback (most recent call last)",
      "Cell \u001b[0;32mIn[18], line 1\u001b[0m\n\u001b[0;32m----> 1\u001b[0m np\u001b[38;5;241m.\u001b[39mwhere(wcs\u001b[38;5;241m.\u001b[39mfootprint_contains(\u001b[43mcorner5\u001b[49m))\n",
      "\u001b[0;31mNameError\u001b[0m: name 'corner5' is not defined"
     ]
    }
   ],
   "source": [
    "np.where(wcs.footprint_contains(corner1))"
   ]
  },
  {
   "cell_type": "code",
   "execution_count": null,
   "id": "62b42a63",
   "metadata": {},
   "outputs": [],
   "source": []
  }
 ],
 "metadata": {
  "kernelspec": {
   "display_name": "Python 3 (ipykernel)",
   "language": "python",
   "name": "python3"
  },
  "language_info": {
   "codemirror_mode": {
    "name": "ipython",
    "version": 3
   },
   "file_extension": ".py",
   "mimetype": "text/x-python",
   "name": "python",
   "nbconvert_exporter": "python",
   "pygments_lexer": "ipython3",
   "version": "3.12.2"
  }
 },
 "nbformat": 4,
 "nbformat_minor": 5
}
