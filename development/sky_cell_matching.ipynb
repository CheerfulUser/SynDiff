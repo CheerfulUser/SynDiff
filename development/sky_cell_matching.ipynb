{
 "cells": [
  {
   "cell_type": "code",
   "execution_count": 1,
   "metadata": {},
   "outputs": [],
   "source": [
    "import numpy as np\n",
    "import pandas as pd\n",
    "from astropy.coordinates import SkyCoord\n",
    "from astropy import units as u\n",
    "from astropy.io import fits\n",
    "from astropy.wcs import FITSFixedWarning\n",
    "from astropy.wcs import WCS\n",
    "import warnings\n",
    "import tqdm\n",
    "import os\n",
    "\n",
    "warnings.filterwarnings(\"ignore\")\n",
    "warnings.filterwarnings(\"ignore\", category=FITSFixedWarning)"
   ]
  },
  {
   "cell_type": "code",
   "execution_count": 2,
   "metadata": {},
   "outputs": [],
   "source": [
    "def angular_distance(ra1, dec1, ra2, dec2):\n",
    "    d1 = np.sin(np.radians(dec1)) * np.sin(np.radians(dec2))\n",
    "    d2 = np.cos(np.radians(dec1)) * np.cos(np.radians(dec2)) * np.cos(np.radians(ra1 - ra2))\n",
    "    return np.degrees(np.arccos(d1 + d2))\n",
    "\n",
    "def max_radius(ra1, dec1, ra2, dec2):\n",
    "    return np.nanmax(angular_distance(ra1, dec1, ra2, dec2))"
   ]
  },
  {
   "cell_type": "code",
   "execution_count": 3,
   "metadata": {},
   "outputs": [],
   "source": [
    "ps1_folder = '/Users/zgl12/Modules/SynDiff/development/SkyCells/'\n",
    "ps1_folder = '/Users/zgl12/Desktop/'\n",
    "ps1_filename = 'Rings.Images.V3.fits'\n",
    "\n",
    "# tess_file = '/Users/zgl12/Modules/SynDiff/development/TESS_FFI/TESS_FFI_Coordinates.csv'\n",
    "skycell_csv = '/Users/zgl12/Modules/SynDiff/development/skycell_coordinates.csv'\n",
    "\n",
    "tess_ffi_csv = '/Users/zgl12/Modules/SynDiff/development/TESS_FFI/TESS_FFI_Coordinates.csv'\n",
    "\n",
    "path = ps1_folder\n",
    "path = '/Users/zgl12/Modules/SynDiff/development/SkyCells/'\n"
   ]
  },
  {
   "cell_type": "code",
   "execution_count": 4,
   "metadata": {},
   "outputs": [],
   "source": [
    "tess_ffi_df = pd.read_csv(tess_ffi_csv)\n",
    "\n",
    "ra_center = tess_ffi_df['RA_center'].to_numpy()\n",
    "dec_center = tess_ffi_df['DEC_center'].to_numpy()"
   ]
  },
  {
   "cell_type": "code",
   "execution_count": 5,
   "metadata": {},
   "outputs": [],
   "source": [
    "hdul = fits.open('SkyCells/Rings.Images.V3.fits')"
   ]
  },
  {
   "cell_type": "code",
   "execution_count": 9,
   "metadata": {},
   "outputs": [
    {
     "data": {
      "text/plain": [
       "FITS_rec([(0., -90.,  29039.5,  29040., 6.9444446e-05, 6.9444446e-05, -1., 0., -0., 1., [0., 0., 0., 0., 0., 0., 0., 0., 0., 0., 0., 0., 0., 0.], 'DEC--TAN', '', 0, 0, 0., 6240, 6240, 0., 0., 0., 0., 0, 1, 0., 0., 0., 0., 0., 0., 0., 'skycell.0000.000', 0, 0, 0, 0, 0, 0, 0, 0, 0, 0, 0, 0, 0, 0, 0, 0., 0., 0., 0, 0, 0, 0),\n",
       "          (0., -90.,  23279.5,  29040., 6.9444446e-05, 6.9444446e-05, -1., 0., -0., 1., [0., 0., 0., 0., 0., 0., 0., 0., 0., 0., 0., 0., 0., 0.], 'DEC--TAN', '', 0, 0, 0., 6240, 6240, 0., 0., 0., 0., 0, 1, 0., 0., 0., 0., 0., 0., 0., 'skycell.0000.001', 0, 0, 0, 0, 0, 0, 0, 0, 0, 0, 0, 0, 0, 0, 0, 0., 0., 0., 0, 0, 0, 0),\n",
       "          (0., -90.,  17519.5,  29040., 6.9444446e-05, 6.9444446e-05, -1., 0., -0., 1., [0., 0., 0., 0., 0., 0., 0., 0., 0., 0., 0., 0., 0., 0.], 'DEC--TAN', '', 0, 0, 0., 6240, 6240, 0., 0., 0., 0., 0, 1, 0., 0., 0., 0., 0., 0., 0., 'skycell.0000.002', 0, 0, 0, 0, 0, 0, 0, 0, 0, 0, 0, 0, 0, 0, 0, 0., 0., 0., 0, 0, 0, 0),\n",
       "          ...,\n",
       "          (0.,  90., -11280.5, -22800., 6.9444446e-05, 6.9444446e-05, -1., 0., -0., 1., [0., 0., 0., 0., 0., 0., 0., 0., 0., 0., 0., 0., 0., 0.], 'DEC--TAN', '', 0, 0, 0., 6240, 6240, 0., 0., 0., 0., 0, 1, 0., 0., 0., 0., 0., 0., 0., 'skycell.2643.097', 0, 0, 0, 0, 0, 0, 0, 0, 0, 0, 0, 0, 0, 0, 0, 0., 0., 0., 0, 0, 0, 0),\n",
       "          (0.,  90., -17040.5, -22800., 6.9444446e-05, 6.9444446e-05, -1., 0., -0., 1., [0., 0., 0., 0., 0., 0., 0., 0., 0., 0., 0., 0., 0., 0.], 'DEC--TAN', '', 0, 0, 0., 6240, 6240, 0., 0., 0., 0., 0, 1, 0., 0., 0., 0., 0., 0., 0., 'skycell.2643.098', 0, 0, 0, 0, 0, 0, 0, 0, 0, 0, 0, 0, 0, 0, 0, 0., 0., 0., 0, 0, 0, 0),\n",
       "          (0.,  90., -22800.5, -22800., 6.9444446e-05, 6.9444446e-05, -1., 0., -0., 1., [0., 0., 0., 0., 0., 0., 0., 0., 0., 0., 0., 0., 0., 0.], 'DEC--TAN', '', 0, 0, 0., 6240, 6240, 0., 0., 0., 0., 0, 1, 0., 0., 0., 0., 0., 0., 0., 'skycell.2643.099', 0, 0, 0, 0, 0, 0, 0, 0, 0, 0, 0, 0, 0, 0, 0, 0., 0., 0., 0, 0, 0, 0)],\n",
       "         dtype=(numpy.record, [('CRVAL1', '>f8'), ('CRVAL2', '>f8'), ('CRPIX1', '>f4'), ('CRPIX2', '>f4'), ('CDELT1', '>f4'), ('CDELT2', '>f4'), ('PC1_1', '>f4'), ('PC1_2', '>f4'), ('PC2_1', '>f4'), ('PC2_2', '>f4'), ('POLYTERMS', '>f4', (14,)), ('CTYPE', 'S15'), ('NPOLYTERMS', 'S1'), ('TZERO', '>i4'), ('NSTAR', '>i4'), ('SECZ', '>f4'), ('NX', '>i2'), ('NY', '>i2'), ('APMIFIT', '>f4'), ('DAPMIFIT', '>f4'), ('MCAL', '>f4'), ('DMCAL', '>f4'), ('XM', '>i2'), ('PHOTCODE', '>i2'), ('EXPTIME', '>f4'), ('ST', '>f4'), ('LAT', '>f4'), ('RA_CENTER', '>f4'), ('DEC_CENTER', '>f4'), ('RADIUS', '>f4'), ('DUMMY', '>f4'), ('NAME', 'S121'), ('DETECTION_LIMIT', 'u1'), ('SATURATION_LIMIT', 'u1'), ('CERROR', 'u1'), ('FWHM_X', 'u1'), ('FWHM_Y', 'u1'), ('TRATE', 'u1'), ('CCDNUM', 'u1'), ('FLAGS', '>i4'), ('IMAGE_ID', '>i4'), ('PARENT_ID', '>i4'), ('EXTERN_ID', '>i4'), ('SOURCE_ID', '>i2'), ('NLINK_ASTROM', '>i2'), ('NLINK_PHOTOM', '>i2'), ('DUMMY3', '>i2'), ('XPIX_SYS_ERR', '>f4'), ('YPIX_SYS_ERR', '>f4'), ('MAG_SYS_ERR', '>f4'), ('N_FIT_ASTROM', '>i2'), ('N_FIT_PHOTOM', '>i2'), ('PHOTOM_MAP_ID', '>i4'), ('ASTROM_MAP_ID', '>i4')]))"
      ]
     },
     "execution_count": 9,
     "metadata": {},
     "output_type": "execute_result"
    }
   ],
   "source": [
    "hdul[1].data"
   ]
  },
  {
   "cell_type": "code",
   "execution_count": 5,
   "metadata": {},
   "outputs": [
    {
     "name": "stdout",
     "output_type": "stream",
     "text": [
      "Filename: /Users/zgl12/Desktop/Rings.Images.V3.fits\n",
      "No.    Name      Ver    Type      Cards   Dimensions   Format\n",
      "  0  PRIMARY       1 PrimaryHDU      11   ()      \n",
      "  1  DVO_IMAGE_PS1_V2    1 BinTableHDU    171   264400R x 54C   ['D', 'D', 'E', 'E', 'E', 'E', 'E', 'E', 'E', 'E', '14E', '15A', 'A', 'J', 'J', 'E', 'I', 'I', 'E', 'E', 'E', 'E', 'I', 'I', 'E', 'E', 'E', 'E', 'E', 'E', 'E', '121A', 'B', 'B', 'B', 'B', 'B', 'B', 'B', 'J', 'J', 'J', 'J', 'I', 'I', 'I', 'I', 'E', 'E', 'E', 'I', 'I', 'J', 'J']   \n",
      "['CRVAL1', 'CRVAL2', 'CRPIX1', 'CRPIX2', 'CDELT1', 'CDELT2', 'PC1_1', 'PC1_2', 'PC2_1', 'PC2_2', 'POLYTERMS', 'CTYPE', 'NPOLYTERMS', 'TZERO', 'NSTAR', 'SECZ', 'NX', 'NY', 'APMIFIT', 'DAPMIFIT', 'MCAL', 'DMCAL', 'XM', 'PHOTCODE', 'EXPTIME', 'ST', 'LAT', 'RA_CENTER', 'DEC_CENTER', 'RADIUS', 'DUMMY', 'NAME', 'DETECTION_LIMIT', 'SATURATION_LIMIT', 'CERROR', 'FWHM_X', 'FWHM_Y', 'TRATE', 'CCDNUM', 'FLAGS', 'IMAGE_ID', 'PARENT_ID', 'EXTERN_ID', 'SOURCE_ID', 'NLINK_ASTROM', 'NLINK_PHOTOM', 'DUMMY3', 'XPIX_SYS_ERR', 'YPIX_SYS_ERR', 'MAG_SYS_ERR', 'N_FIT_ASTROM', 'N_FIT_PHOTOM', 'PHOTOM_MAP_ID', 'ASTROM_MAP_ID']\n"
     ]
    },
    {
     "name": "stderr",
     "output_type": "stream",
     "text": [
      "Processing PS1 Data: 100%|██████████| 200900/200900 [18:52<00:00, 177.37it/s]\n"
     ]
    }
   ],
   "source": [
    "if os.path.exists(skycell_csv):\n",
    "    sky = True\n",
    "    print('Skycell Coordinates already exist')\n",
    "    new_df = pd.read_csv(skycell_csv)\n",
    "else:\n",
    "\n",
    "    hdul = fits.open(ps1_folder + ps1_filename)\n",
    "    data = hdul[1].data\n",
    "    header = hdul[0].header\n",
    "    hdul.info()\n",
    "    hdul.close()\n",
    "\n",
    "\n",
    "    cols = data.columns.names\n",
    "    print(cols)\n",
    "    df = pd.DataFrame(columns = cols)\n",
    "\n",
    "    new_df = pd.DataFrame(columns = ['Name', 'RA', 'DEC', 'RA_Corner1', 'DEC_Corner1', \n",
    "                                     'RA_Corner2', 'DEC_Corner2', 'RA_Corner3', 'DEC_Corner3', \n",
    "                                     'RA_Corner4', 'DEC_Corner4'])\n",
    "\n",
    "    for j in tqdm.tqdm(range(len(data) - 63500), desc='Processing PS1 Data'):\n",
    "        j += 63500\n",
    "\n",
    "        temp = fits.Header()\n",
    "        for k in ['CRVAL1','CRVAL2','CRPIX1','CRPIX2','CDELT1','CDELT2', 'PC1_1', 'PC1_2', 'PC2_1', 'PC2_2', 'NAME']:\n",
    "            temp[k] = data[j][k]\n",
    "\n",
    "        temp['NAXIS1'] = data[j]['NX']\n",
    "        temp['NAXIS2'] = data[j]['NY']\n",
    "        temp['RADESYS'] = 'FK5'\n",
    "        temp['CTYPE1'] = 'RA---TAN'\n",
    "        temp['CTYPE2'] = 'DEC--TAN'\n",
    "\n",
    "        r_wcs = WCS(temp)\n",
    "\n",
    "        ra, dec = r_wcs.all_pix2world(temp['NAXIS1']//2, temp['NAXIS2']//2, 0)\n",
    "\n",
    "        fprint = r_wcs.calc_footprint()\n",
    "\n",
    "        fpp = [fp[i] for fp in fprint for i in range(2)]\n",
    "\n",
    "        new_df.loc[len(new_df)] = [temp['NAME'], float(ra), float(dec)] + fpp\n",
    "\n",
    "        # break\n",
    "    \n",
    "    new_df.to_csv(skycell_csv, index=False)"
   ]
  },
  {
   "cell_type": "code",
   "execution_count": 6,
   "metadata": {},
   "outputs": [
    {
     "name": "stderr",
     "output_type": "stream",
     "text": [
      "Processing Skycells: 100%|██████████| 1264/1264 [00:29<00:00, 43.00it/s]\n"
     ]
    }
   ],
   "source": [
    "new_df = pd.read_csv(skycell_csv)\n",
    "\n",
    "for j in tqdm.tqdm(range(len(ra_center)), desc='Processing Skycells'):\n",
    "\n",
    "    skycells = pd.DataFrame(columns = ['Name', 'Dist', 'RA', 'DEC', 'RA_Corner1', 'DEC_Corner1', \n",
    "                                     'RA_Corner2', 'DEC_Corner2', 'RA_Corner3', 'DEC_Corner3', \n",
    "                                     'RA_Corner4', 'DEC_Corner4'])\n",
    "\n",
    "    decc = dec_center[j]\n",
    "    rac = ra_center[j]\n",
    "\n",
    "    ra_corners = np.array([tess_ffi_df.iloc[j][f'RA_corner{i}'] for i in range(1,5)])\n",
    "    dec_corners = np.array([tess_ffi_df.iloc[j][f'DEC_corner{i}'] for i in range(1,5)])\n",
    "\n",
    "    # print(ra_corners, dec_corners)\n",
    "\n",
    "    radius_var = max_radius(ra_center[j], dec_center[j], ra_corners, dec_corners) + np.sqrt(2) * 0.4\n",
    "\n",
    "    ccd = int(tess_ffi_df.iloc[j]['CCD'] + 4*(tess_ffi_df.iloc[j]['Camera'] - 1))\n",
    "    sector = int(tess_ffi_df.iloc[j]['Sector'])\n",
    "\n",
    "    # print(f'Processing Sector {sector} CCD {ccd}')\n",
    "\n",
    "    radius = angular_distance(rac, decc, new_df['RA'].to_numpy(), new_df['DEC'].to_numpy())\n",
    "\n",
    "    mask = radius < radius_var\n",
    "\n",
    "    temp_skycells = new_df[mask]\n",
    "\n",
    "    names = temp_skycells['Name'].to_numpy()\n",
    "    ra1 = temp_skycells['RA_Corner1'].to_numpy()\n",
    "    dec1 = temp_skycells['DEC_Corner1'].to_numpy()\n",
    "    ra2 = temp_skycells['RA_Corner2'].to_numpy()\n",
    "    dec2 = temp_skycells['DEC_Corner2'].to_numpy()\n",
    "    ra3 = temp_skycells['RA_Corner3'].to_numpy()\n",
    "    dec3 = temp_skycells['DEC_Corner3'].to_numpy()\n",
    "    ra4 = temp_skycells['RA_Corner4'].to_numpy()\n",
    "    dec4 = temp_skycells['DEC_Corner4'].to_numpy()\n",
    "\n",
    "    skycells['Name'] = names\n",
    "    skycells['Dist'] = radius[mask]\n",
    "    skycells['RA'] = temp_skycells['RA'].to_numpy()\n",
    "    skycells['DEC'] = temp_skycells['DEC'].to_numpy()\n",
    "    skycells['RA_Corner1'] = ra1\n",
    "    skycells['DEC_Corner1'] = dec1\n",
    "    skycells['RA_Corner2'] = ra2\n",
    "    skycells['DEC_Corner2'] = dec2\n",
    "    skycells['RA_Corner3'] = ra3\n",
    "    skycells['DEC_Corner3'] = dec3\n",
    "    skycells['RA_Corner4'] = ra4\n",
    "    skycells['DEC_Corner4'] = dec4\n",
    "\n",
    "    skycells = skycells.reset_index(drop=True)\n",
    "\n",
    "    if os.path.exists(path + f\"Sector{str(sector).zfill(3)}/\") == False:\n",
    "        os.makedirs(path + f\"Sector{str(sector).zfill(3)}/\")\n",
    "\n",
    "    file = path + f\"Sector{str(sector).zfill(3)}/\" + f\"skycell_s{sector}_c{ccd}.csv\"\n",
    "\n",
    "    skycells.to_csv(file, index=False)\n",
    "    # break"
   ]
  },
  {
   "cell_type": "code",
   "execution_count": null,
   "metadata": {},
   "outputs": [],
   "source": [
    "skycells"
   ]
  },
  {
   "cell_type": "code",
   "execution_count": null,
   "metadata": {},
   "outputs": [],
   "source": [
    "new_df"
   ]
  },
  {
   "cell_type": "code",
   "execution_count": null,
   "metadata": {},
   "outputs": [],
   "source": [
    "\n",
    "# hdul = fits.open('/Users/zgl12/Desktop/rings.v3.skycell.2247.025.stk.r.unconv.fits')\n",
    "# wcs = WCS(hdul[1].header)\n",
    "# # data = hdul[0].data\n",
    "\n",
    "# for h in hdul[1].header:\n",
    "#     print(h, hdul[1].header[h])\n",
    "# # print(hdul[1].header['NAXIS1'], hdul[1].header['NAXIS2'])\n",
    "# hdul.close()\n",
    "\n",
    "# # print(np.shape(data))\n",
    "\n",
    "# fp = wcs.calc_footprint()\n",
    "\n",
    "# print(fp)"
   ]
  },
  {
   "cell_type": "code",
   "execution_count": null,
   "metadata": {},
   "outputs": [],
   "source": [
    "# new_df[new_df['Name'] == 'skycell.2247.025']"
   ]
  },
  {
   "cell_type": "code",
   "execution_count": null,
   "metadata": {},
   "outputs": [],
   "source": [
    "# print(data[224610])\n",
    "\n",
    "# temp = {}\n",
    "# for i in range(len(data[224610])):\n",
    "#     temp[cols[i]] = data[224610][i]\n",
    "\n",
    "# temp.pop('POLYTERMS', None)\n",
    "\n",
    "# temp['NAXIS1'] = int(temp['NY'])\n",
    "# temp['NAXIS2'] = int(temp['NX'])\n",
    "\n",
    "# head = fits.Header(temp)\n",
    "# wcs = WCS(head) \n",
    "\n",
    "# ra, dec = wcs.all_pix2world(temp['NY']//2, temp['NX']//2, 0)\n",
    "\n",
    "# fprint = wcs.calc_footprint()\n",
    "\n",
    "# fprint"
   ]
  },
  {
   "cell_type": "code",
   "execution_count": null,
   "metadata": {},
   "outputs": [],
   "source": []
  }
 ],
 "metadata": {
  "kernelspec": {
   "display_name": "Python 3 (ipykernel)",
   "language": "python",
   "name": "python3"
  },
  "language_info": {
   "codemirror_mode": {
    "name": "ipython",
    "version": 3
   },
   "file_extension": ".py",
   "mimetype": "text/x-python",
   "name": "python",
   "nbconvert_exporter": "python",
   "pygments_lexer": "ipython3",
   "version": "3.11.5"
  }
 },
 "nbformat": 4,
 "nbformat_minor": 2
}
