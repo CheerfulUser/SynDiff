{
 "cells": [
  {
   "cell_type": "code",
   "execution_count": 1,
   "metadata": {},
   "outputs": [],
   "source": [
    "from pancakes import Pancakes\n",
    "import matplotlib.pyplot as plt\n",
    "import numpy as np\n",
    "import pandas as pd\n",
    "\n",
    "# import time\n",
    "\n",
    "from astropy.io import fits\n",
    "from astropy.wcs import WCS\n",
    "from astropy.table import Table\n",
    "\n",
    "%matplotlib widget"
   ]
  },
  {
   "cell_type": "code",
   "execution_count": null,
   "metadata": {},
   "outputs": [],
   "source": [
    "tess_file = './PS1_to_TESS/data/tess2019359002923-s0020-1-1-0165-s_ffic.fits'\n",
    "savepath = './SkyCells/Sector020/'\n",
    "\n",
    "pancakes = Pancakes(tess_file, \n",
    "                    savepath = '/Users/zgl12/Python_Scripts/SynDiff/', \n",
    "                    num_cores = 2, sector=20, use_multiple_cores_per_task = False, \n",
    "                    overwrite = True, buffer = 120)"
   ]
  },
  {
   "cell_type": "code",
   "execution_count": null,
   "metadata": {},
   "outputs": [],
   "source": [
    "pancakes.complete_mapping()"
   ]
  },
  {
   "cell_type": "code",
   "execution_count": null,
   "metadata": {},
   "outputs": [],
   "source": [
    "\n",
    "hdu = fits.open('/Users/zgl12/Python_Scripts/SynDiff/TESS_s0020_1_skycell.2246.021_00002_.fits.gz')\n",
    "fll_0 = hdu[1].data.astype(float)\n",
    "fll_0_hdr = hdu[2].header\n",
    "hdu.close()\n",
    "\n",
    "hdu = fits.open('/Users/zgl12/Python_Scripts/SynDiff/TESS_s0020_1_skycell.2246.022_00003_.fits.gz')\n",
    "fll_1 = hdu[1].data.astype(float)\n",
    "fll_1_hdr = hdu[1].header\n",
    "hdu.close()\n",
    "\n",
    "fll_0[fll_0 > 1e4] = np.nan\n",
    "fll_1[fll_1 > 1e4] = np.nan\n",
    "\n",
    "plt.figure()\n",
    "plt.imshow(fll_0, origin='lower', cmap='viridis', vmin = np.nanpercentile(fll_0, 5), vmax = np.nanpercentile(fll_0, 95))\n",
    "plt.colorbar()\n",
    "plt.savefig('fll_0.png')\n",
    "plt.show()\n",
    "\n",
    "plt.figure()\n",
    "plt.imshow(fll_1, origin='lower', cmap='viridis', vmin = np.nanpercentile(fll_1, 5), vmax = np.nanpercentile(fll_1, 95))\n",
    "plt.colorbar()\n",
    "plt.show()"
   ]
  },
  {
   "cell_type": "code",
   "execution_count": 9,
   "metadata": {},
   "outputs": [],
   "source": [
    "hdu = fits.open('/Users/zgl12/Python_Scripts/SynDiff/TESS_s0020_1_master_pixels2skycells.fits.gz')\n",
    "master = hdu[1].data.astype(float)\n",
    "hdu.close()"
   ]
  },
  {
   "cell_type": "code",
   "execution_count": null,
   "metadata": {},
   "outputs": [],
   "source": [
    "plt.figure()\n",
    "plt.imshow(master, origin='lower', cmap='viridis', vmin = np.nanpercentile(master, 5), vmax = np.nanpercentile(master, 95))\n",
    "plt.colorbar()\n",
    "plt.savefig('master.png')\n",
    "plt.show()"
   ]
  },
  {
   "cell_type": "code",
   "execution_count": null,
   "metadata": {},
   "outputs": [],
   "source": []
  }
 ],
 "metadata": {
  "kernelspec": {
   "display_name": "Python 3 (ipykernel)",
   "language": "python",
   "name": "python3"
  },
  "language_info": {
   "codemirror_mode": {
    "name": "ipython",
    "version": 3
   },
   "file_extension": ".py",
   "mimetype": "text/x-python",
   "name": "python",
   "nbconvert_exporter": "python",
   "pygments_lexer": "ipython3",
   "version": "3.11.5"
  }
 },
 "nbformat": 4,
 "nbformat_minor": 2
}
