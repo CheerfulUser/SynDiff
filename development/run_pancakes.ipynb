{
 "cells": [
  {
   "cell_type": "code",
   "execution_count": 1,
   "metadata": {},
   "outputs": [],
   "source": [
    "from pancakes import Pancakes\n",
    "import matplotlib.pyplot as plt\n",
    "import numpy as np\n",
    "import pandas as pd\n",
    "\n",
    "from astropy.io import fits\n",
    "from astropy.wcs import WCS\n",
    "from astropy.table import Table\n",
    "\n",
    "%matplotlib widget"
   ]
  },
  {
   "cell_type": "code",
   "execution_count": 2,
   "metadata": {},
   "outputs": [
    {
     "name": "stdout",
     "output_type": "stream",
     "text": [
      "Sector: 20\n"
     ]
    },
    {
     "name": "stderr",
     "output_type": "stream",
     "text": [
      "Getting all WCS: 100%|██████████| 1739/1739 [00:34<00:00, 50.40it/s]\n"
     ]
    }
   ],
   "source": [
    "tess_file = './PS1_to_TESS/data/tess2019359002923-s0020-1-1-0165-s_ffic.fits'\n",
    "savepath = './SkyCells/Sector020/'\n",
    "\n",
    "pancakes = Pancakes(tess_file, \n",
    "                    savepath = '/Users/zgl12/Python_Scripts/SynDiff/', \n",
    "                    num_cores = 1, sector=20, use_multiple_cores_per_task = False, overwrite = True)"
   ]
  },
  {
   "cell_type": "code",
   "execution_count": 3,
   "metadata": {},
   "outputs": [
    {
     "name": "stderr",
     "output_type": "stream",
     "text": [
      "rm: /Users/zgl12/Python_Scripts/SynDiff/TESS_s0020_1_skycell.2246.021_00002_.fits: No such file or directory\n"
     ]
    }
   ],
   "source": [
    "pancakes.syrup()"
   ]
  },
  {
   "cell_type": "code",
   "execution_count": null,
   "metadata": {},
   "outputs": [],
   "source": [
    "ps1_filename = 'ds9.fits'\n",
    "folder = '/Users/zgl12/Modules/SynDiff/development/PS1_to_TESS/data/'\n",
    "tess_filename = 'tess2019359002923-s0020-1-1-0165-s_ffic.fits'\n",
    "file = '/Users/zgl12/Python_Scripts/SynDiff/TESS_s0020_1_master_pixels2skycells.fits.gz'\n",
    "\n",
    "\n",
    "tess_hdul = fits.open(folder + tess_filename)\n",
    "tess_data = tess_hdul[1].data\n",
    "tess_header = tess_hdul[1].header\n",
    "tess_wcs = WCS(tess_header)\n",
    "tess_hdul.close()\n",
    "\n",
    "ps1_hdul = fits.open(folder + ps1_filename)\n",
    "ps1_data = ps1_hdul[0].data\n",
    "ps1_header = ps1_hdul[0].header\n",
    "ps1_wcs = WCS(ps1_header)\n",
    "ps1_hdul.close()\n",
    "\n",
    "print(ps1_data.shape)\n",
    "\n",
    "ps1_fprint = ps1_wcs.calc_footprint()\n",
    "p_xs, p_ys = tess_wcs.all_world2pix(ps1_fprint[:, 0], ps1_fprint[:, 1], 0)\n"
   ]
  },
  {
   "cell_type": "code",
   "execution_count": null,
   "metadata": {},
   "outputs": [],
   "source": [
    "\n",
    "hdul = fits.open(file)\n",
    "data = hdul[1].data\n",
    "table_data = hdul[2].data\n",
    "hdul.close()\n",
    "\n",
    "tab = Table(table_data).to_pandas()\n",
    "\n",
    "tab_f = tab[tab['SKYCELL'] == 'skycell.2246.021']\n",
    "\n",
    "print(tab_f)\n",
    "\n",
    "# plt.figure(figsize=(12, 12))\n",
    "fig, axs = plt.subplots(1, 2, sharex=False, sharey=False)\n",
    "axs[0].imshow(data, origin='lower')\n",
    "axs[0].scatter(p_xs, p_ys, color='red', s = 10)\n",
    "axs[1].imshow(data, origin='lower')\n",
    "axs[1].set_xlim(1000, 1200)\n",
    "axs[1].set_ylim(500, 700)\n",
    "plt.savefig('skycell_for_tess.png', dpi = 900)\n",
    "plt.show()\n",
    "\n",
    "# PANstarrs Coordinate and Astrometry for Key Equivalent Skycells"
   ]
  },
  {
   "cell_type": "code",
   "execution_count": null,
   "metadata": {},
   "outputs": [],
   "source": [
    "# data\n",
    "data[(data != 952) & (data != 951)] = 0\n",
    "\n",
    "plt.figure()\n",
    "plt.imshow(data, vmin = 950, vmax = 953)\n",
    "# plt.scatter(t_xs, t_ys, c='r', s=10)\n",
    "plt.scatter(p_xs, p_ys, c='r', s=10)\n",
    "\n",
    "plt.plot([p_xs[0], p_xs[1]], [p_ys[0], p_ys[1]], c='r')\n",
    "plt.plot([p_xs[1], p_xs[2]], [p_ys[1], p_ys[2]], c='r')\n",
    "plt.plot([p_xs[2], p_xs[3]], [p_ys[2], p_ys[3]], c='r')\n",
    "plt.plot([p_xs[0], p_xs[3]], [p_ys[0], p_ys[3]], c='r')\n",
    "\n",
    "plt.xlim(950, 1125)\n",
    "plt.ylim(950, 1125)\n",
    "plt.savefig('buffer_zone.png', dpi = 900)\n",
    "plt.show()\n"
   ]
  },
  {
   "cell_type": "code",
   "execution_count": null,
   "metadata": {},
   "outputs": [],
   "source": []
  }
 ],
 "metadata": {
  "kernelspec": {
   "display_name": "base",
   "language": "python",
   "name": "python3"
  },
  "language_info": {
   "codemirror_mode": {
    "name": "ipython",
    "version": 3
   },
   "file_extension": ".py",
   "mimetype": "text/x-python",
   "name": "python",
   "nbconvert_exporter": "python",
   "pygments_lexer": "ipython3",
   "version": "3.11.5"
  }
 },
 "nbformat": 4,
 "nbformat_minor": 2
}
