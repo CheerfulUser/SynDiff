{
 "cells": [
  {
   "cell_type": "code",
   "execution_count": 1,
   "metadata": {},
   "outputs": [],
   "source": [
    "import sys\n",
    "sys.path\n",
    "sys.path.append('../../../source_synphot/')\n",
    "import source_synphot.passband\n",
    "import source_synphot.io\n",
    "import source_synphot.source\n",
    "import astropy.table as at\n",
    "from collections import OrderedDict\n",
    "import pysynphot as S\n",
    "import matplotlib.pyplot as plt\n",
    "import numpy as np\n",
    "from scipy import interpolate\n",
    "%matplotlib notebook\n",
    "\n",
    "#from zp_fit import *\n",
    "from scipy.optimize import minimize\n",
    "from astropy.stats import sigma_clip\n",
    "import pandas as pd\n",
    "import warnings\n",
    "#warnings.filterwarnings(\"ignore\")\n",
    "def myround(x, prec=2, base=.5):\n",
    "    return round(base * round(float(x)/base),prec)"
   ]
  },
  {
   "cell_type": "code",
   "execution_count": 2,
   "metadata": {},
   "outputs": [
    {
     "name": "stdout",
     "output_type": "stream",
     "text": [
      "21.8904558292275\n",
      "0.0\n",
      "21.88238391456467\n",
      "0.0\n",
      "20.836195000114955\n",
      "0.0\n",
      "21.370261319386927\n",
      "0.0\n",
      "21.793287528964058\n",
      "0.0\n",
      "22.09903034378283\n",
      "0.0\n",
      "22.325516493196154\n",
      "0.0\n"
     ]
    }
   ],
   "source": [
    "passbands = at.Table.read('../../../source_synphot/source_synphot/passbands/pbzptmag.txt',format='ascii')\n",
    "pbnames = [x['obsmode'] for x in passbands if x['passband'].startswith(\"TESS\")]\n",
    "pbnames += [x['obsmode'] for x in passbands if x['passband'].startswith(\"PS1\")]\n",
    "model_mags = 0.\n",
    "model = 'AB'\n",
    "pbs = source_synphot.passband.load_pbs(pbnames, model_mags, model)\n",
    "pbnames = pbs.keys()"
   ]
  },
  {
   "cell_type": "code",
   "execution_count": 2,
   "metadata": {
    "scrolled": false
   },
   "outputs": [
    {
     "name": "stderr",
     "output_type": "stream",
     "text": [
      "../../../source_synphot/source_synphot/source.py:50: RuntimeWarning: Source ckmod44852_0.0_4.00 not loaded\n",
      "  warnings.warn(message, RuntimeWarning)\n",
      "../../../source_synphot/source_synphot/source.py:50: RuntimeWarning: Source ckmod42857_0.0_4.00 not loaded\n",
      "  warnings.warn(message, RuntimeWarning)\n",
      "../../../source_synphot/source_synphot/source.py:50: RuntimeWarning: Source ckmod40862_0.0_4.00 not loaded\n",
      "  warnings.warn(message, RuntimeWarning)\n",
      "../../../source_synphot/source_synphot/source.py:50: RuntimeWarning: Source ckmod39865_0.0_4.00 not loaded\n",
      "  warnings.warn(message, RuntimeWarning)\n",
      "../../../source_synphot/source_synphot/source.py:50: RuntimeWarning: Source ckmod40300_0.0_3.50 not loaded\n",
      "  warnings.warn(message, RuntimeWarning)\n",
      "../../../source_synphot/source_synphot/source.py:50: RuntimeWarning: Source ckmod39000_0.0_3.00 not loaded\n",
      "  warnings.warn(message, RuntimeWarning)\n",
      "../../../source_synphot/source_synphot/source.py:50: RuntimeWarning: Source ckmod34200_0.0_3.00 not loaded\n",
      "  warnings.warn(message, RuntimeWarning)\n"
     ]
    }
   ],
   "source": [
    "models = at.Table.read('../../../source_synphot/ckmodels.txt',format='ascii')\n",
    "logZ = 0.\n",
    "model_sed_names = []\n",
    "temp = []\n",
    "for s in models:\n",
    "    teff = max(3500.,s['teff'])\n",
    "    logg = myround(s['logg'])\n",
    "    # the models with logg < 1 are just padded with 0s\n",
    "    if logg >= 1:\n",
    "        temp.append(teff)\n",
    "        modstring = 'ckmod{:.0f}_{:.1f}_{:.2f}'.format(teff,logZ, logg)\n",
    "        model_sed_names.append(modstring)\n",
    "model_sed = source_synphot.source.load_source(model_sed_names)"
   ]
  },
  {
   "cell_type": "code",
   "execution_count": 3,
   "metadata": {},
   "outputs": [
    {
     "name": "stdout",
     "output_type": "stream",
     "text": [
      "21.8904558292275\n",
      "21.88238391456467\n",
      "20.836195000114955\n",
      "21.370261319386927\n",
      "21.793287528964058\n",
      "22.09903034378283\n",
      "22.325516493196154\n"
     ]
    }
   ],
   "source": []
  },
  {
   "cell_type": "code",
   "execution_count": 45,
   "metadata": {},
   "outputs": [],
   "source": [
    "color1 = 'ps1g_ps1r'\n",
    "color2 = 'tessps1_tess'\n",
    "color3 = 'ps1g_tess'\n",
    "color4 = 'tess_ps1i'\n",
    "color5 = 'tess_ps1z'\n",
    "col1 = []\n",
    "col2 = []\n",
    "col3 = []\n",
    "col4 = []\n",
    "col5 = []\n",
    "col6 = []\n",
    "col7 = []\n",
    "# construct color-color vectors\n",
    "g = 'ps1g'\n",
    "r = 'ps1r'\n",
    "i = 'ps1i'\n",
    "z = 'ps1z'\n",
    "y = 'ps1y'\n",
    "t = 'tess'\n",
    "tp = 'tessps1'\n",
    "for modelname in model_sed:\n",
    "    model= model_sed[modelname]\n",
    "    model = S.ArraySpectrum(model.wave, model.flux, name=modelname)\n",
    "    g, r = color1.split('_')\n",
    "    pbg, zpg = pbs[g]\n",
    "    pbr, zpr = pbs[r]\n",
    "    pbi, zpi = pbs[i]\n",
    "    pbz, zpz = pbs[z]\n",
    "    pby, zpy = pbs[y]\n",
    "    pbt, zpt = pbs[t]\n",
    "    pbtp, zptp = pbs[tp]\n",
    "    mg  = source_synphot.passband.synphot(model, pbg, zpg)\n",
    "    mr  = source_synphot.passband.synphot(model, pbr, zpr)\n",
    "    mi  = source_synphot.passband.synphot(model, pbi, zpi)\n",
    "    mz  = source_synphot.passband.synphot(model, pbz, zpz)\n",
    "    my  = source_synphot.passband.synphot(model, pby, zpy)\n",
    "    mt  = source_synphot.passband.synphot(model, pbt, zpt)\n",
    "    mtp = source_synphot.passband.synphot(model, pbtp, zptp)\n",
    "\n",
    "    col1.append(mg)\n",
    "    col2.append(mr)\n",
    "    col3.append(mi)\n",
    "    col4.append(mz)\n",
    "    col5.append(my)\n",
    "    col6.append(mt)\n",
    "    col7.append(mtp)\n",
    "mg = np.array(col1)\n",
    "mr = np.array(col2)\n",
    "mi = np.array(col3)\n",
    "mz = np.array(col4)\n",
    "my = np.array(col5)\n",
    "mt = np.array(col6)\n",
    "mtp = np.array(col7)\n",
    "# select only useful objects\n",
    "good = (~np.isnan(mg)* ~np.isnan(mr)* ~np.isnan(mi)* ~np.isnan(mz)\n",
    "        * ~np.isnan(my)* ~np.isnan(mt)* ~np.isnan(mtp))\n",
    "good = np.array(good)"
   ]
  },
  {
   "cell_type": "code",
   "execution_count": 42,
   "metadata": {},
   "outputs": [
    {
     "data": {
      "text/plain": [
       "array([-43.46142642, -43.42811488, -43.39254864, -43.35378539,\n",
       "       -43.31022614, -43.26048351, -43.20377571, -43.13966557,\n",
       "       -42.99956641, -42.6287441 , -42.02445073, -41.66027314,\n",
       "       -41.14708305, -40.6098914 , -40.51962211, -40.10984049,\n",
       "       -40.03337363, -39.39553985, -39.17058288, -38.81330978,\n",
       "       -38.6054405 , -38.44856291, -38.28611731, -38.19172114,\n",
       "       -37.98027733, -37.59440339, -36.91563952, -36.53442878,\n",
       "       -36.13159024, -35.50615821, -35.04016818, -34.39970354,\n",
       "       -34.22357047, -42.96758772, -41.61562478, -38.30378662,\n",
       "       -37.4812987 , -36.88234632, -35.21675522, -34.76569469,\n",
       "       -42.75658798, -41.41832794, -40.65280075, -40.28318691,\n",
       "       -39.89888734, -39.34488903, -37.99695088, -37.04183687,\n",
       "       -36.3062301 ])"
      ]
     },
     "execution_count": 42,
     "metadata": {},
     "output_type": "execute_result"
    }
   ],
   "source": [
    "mg"
   ]
  },
  {
   "cell_type": "code",
   "execution_count": 47,
   "metadata": {},
   "outputs": [
    {
     "data": {
      "text/plain": [
       "OrderedDict([('tess',\n",
       "              (<pysynphot.spectrum.ArraySpectralElement at 0x132687e6d8>,\n",
       "               -21.8904558292275)),\n",
       "             ('tessps1',\n",
       "              (<pysynphot.spectrum.ArraySpectralElement at 0x1326880978>,\n",
       "               -21.88238391456467)),\n",
       "             ('ps1g',\n",
       "              (<pysynphot.spectrum.ArraySpectralElement at 0x13264cffd0>,\n",
       "               -20.836195000114955)),\n",
       "             ('ps1r',\n",
       "              (<pysynphot.spectrum.ArraySpectralElement at 0x132594a080>,\n",
       "               -21.370261319386927)),\n",
       "             ('ps1i',\n",
       "              (<pysynphot.spectrum.ArraySpectralElement at 0x1325936dd8>,\n",
       "               -21.793287528964058)),\n",
       "             ('ps1z',\n",
       "              (<pysynphot.spectrum.ArraySpectralElement at 0x132687c160>,\n",
       "               -22.09903034378283)),\n",
       "             ('ps1y',\n",
       "              (<pysynphot.spectrum.ArraySpectralElement at 0x1324967cf8>,\n",
       "               -22.325516493196154))])"
      ]
     },
     "execution_count": 47,
     "metadata": {},
     "output_type": "execute_result"
    }
   ],
   "source": [
    "pbs"
   ]
  },
  {
   "cell_type": "code",
   "execution_count": 48,
   "metadata": {},
   "outputs": [
    {
     "data": {
      "text/plain": [
       "20.836195000114955"
      ]
     },
     "execution_count": 48,
     "metadata": {},
     "output_type": "execute_result"
    }
   ],
   "source": [
    "-zpg"
   ]
  },
  {
   "cell_type": "code",
   "execution_count": null,
   "metadata": {},
   "outputs": [],
   "source": []
  }
 ],
 "metadata": {
  "kernelspec": {
   "display_name": "Python 3",
   "language": "python",
   "name": "python3"
  },
  "language_info": {
   "codemirror_mode": {
    "name": "ipython",
    "version": 3
   },
   "file_extension": ".py",
   "mimetype": "text/x-python",
   "name": "python",
   "nbconvert_exporter": "python",
   "pygments_lexer": "ipython3",
   "version": "3.7.7"
  }
 },
 "nbformat": 4,
 "nbformat_minor": 4
}
