{
 "cells": [
  {
   "cell_type": "code",
   "execution_count": 1,
   "id": "9a09b741",
   "metadata": {},
   "outputs": [],
   "source": [
    "from tessvectors  import getvector"
   ]
  },
  {
   "cell_type": "code",
   "execution_count": 4,
   "id": "91e19fc0",
   "metadata": {},
   "outputs": [
    {
     "name": "stdout",
     "output_type": "stream",
     "text": [
      "INFO:root:Retrieving TESSVector from: https://heasarc.gsfc.nasa.gov/docs/tess/data/TESSVectors/Vectors/FFI_Cadence/TessVectors_S020_C1_FFI.xz\n"
     ]
    }
   ],
   "source": [
    "vector = getvector((\"FFI\", 20, 1))"
   ]
  },
  {
   "cell_type": "code",
   "execution_count": 6,
   "id": "8470f138",
   "metadata": {},
   "outputs": [
    {
     "data": {
      "text/plain": [
       "Index(['Cadence', 'MidTime', 'Segment', 'Quat_Start', 'Quat_Stop',\n",
       "       'Quat_MIN_FOM', 'Quat_MIN_NUM_GSUSED', 'Quat_NBinned', 'Quat1_Med',\n",
       "       'Quat1_StdDev', 'Quat1_StdDev_SigClip', 'Quat2_Med', 'Quat2_StdDev',\n",
       "       'Quat2_StdDev_SigClip', 'Quat3_Med', 'Quat3_StdDev',\n",
       "       'Quat3_StdDev_SigClip', 'Quat4_Med', 'Quat4_StdDev',\n",
       "       'Quat4_StdDev_SigClip', 'Earth_Distance', 'Earth_Camera_Angle',\n",
       "       'Earth_Camera_Azimuth', 'Moon_Distance', 'Moon_Camera_Angle',\n",
       "       'Moon_Camera_Azimuth', 'Earth_Spacecraft_Angle',\n",
       "       'Earth_Spacecraft_Azimuth', 'Moon_Spacecraft_Angle',\n",
       "       'Moon_Spacecraft_Azimuth', 'FFIFile'],\n",
       "      dtype='object')"
      ]
     },
     "execution_count": 6,
     "metadata": {},
     "output_type": "execute_result"
    }
   ],
   "source": [
    "vector.keys()"
   ]
  },
  {
   "cell_type": "code",
   "execution_count": null,
   "id": "23afb670",
   "metadata": {},
   "outputs": [],
   "source": []
  }
 ],
 "metadata": {
  "kernelspec": {
   "display_name": "Python 3 (ipykernel)",
   "language": "python",
   "name": "python3"
  },
  "language_info": {
   "codemirror_mode": {
    "name": "ipython",
    "version": 3
   },
   "file_extension": ".py",
   "mimetype": "text/x-python",
   "name": "python",
   "nbconvert_exporter": "python",
   "pygments_lexer": "ipython3",
   "version": "3.12.2"
  }
 },
 "nbformat": 4,
 "nbformat_minor": 5
}
