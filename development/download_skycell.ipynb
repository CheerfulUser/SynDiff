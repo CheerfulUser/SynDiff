{
 "cells": [
  {
   "cell_type": "code",
   "execution_count": 3,
   "id": "0d0adf41",
   "metadata": {},
   "outputs": [],
   "source": [
    "from download_ps1_skycell import bulk_download\n",
    "\n",
    "%matplotlib notebook\n",
    "import numpy as np\n",
    "import matplotlib.pyplot as plt"
   ]
  },
  {
   "cell_type": "code",
   "execution_count": 9,
   "id": "20456531",
   "metadata": {},
   "outputs": [],
   "source": [
    "ra = 110.16605341#120.434250672726+0.25\n",
    "dec = 40.10360174#45.293553239629475"
   ]
  },
  {
   "cell_type": "code",
   "execution_count": 11,
   "id": "03a4425b",
   "metadata": {},
   "outputs": [
    {
     "name": "stdout",
     "output_type": "stream",
     "text": [
      "rings.v3.skycell.2246.030.stk.i.unconv.fits 120.66423264700889 45.19455323962947\n",
      "rings.v3.skycell.2246.030.stk.r.unconv.fits 120.66423264700889 45.19455323962947\n",
      "rings.v3.skycell.2246.030.stk.y.unconv.fits 120.66423264700889 45.19455323962947\n",
      "rings.v3.skycell.2246.030.stk.z.unconv.fits 120.66423264700889 45.19455323962947\n",
      "rings.v3.skycell.2247.039.stk.i.unconv.fits 120.94804069085396 45.19455323962947\n",
      "rings.v3.skycell.2247.039.stk.r.unconv.fits 120.94804069085396 45.19455323962947\n",
      "rings.v3.skycell.2247.039.stk.y.unconv.fits 120.94804069085396 45.19455323962947\n",
      "rings.v3.skycell.2247.039.stk.z.unconv.fits 120.94804069085396 45.19455323962947\n"
     ]
    },
    {
     "ename": "ValueError",
     "evalue": "arange: cannot compute length",
     "output_type": "error",
     "traceback": [
      "\u001b[0;31m---------------------------------------------------------------------------\u001b[0m",
      "\u001b[0;31mValueError\u001b[0m                                Traceback (most recent call last)",
      "Cell \u001b[0;32mIn[11], line 1\u001b[0m\n\u001b[0;32m----> 1\u001b[0m \u001b[43mbulk_download\u001b[49m\u001b[43m(\u001b[49m\u001b[43mra\u001b[49m\u001b[43m,\u001b[49m\u001b[43mdec\u001b[49m\u001b[43m,\u001b[49m\u001b[43m \u001b[49m\u001b[38;5;241;43m0.1\u001b[39;49m\u001b[43m,\u001b[49m\u001b[43m \u001b[49m\u001b[43mhome_dir\u001b[49m\u001b[43m \u001b[49m\u001b[38;5;241;43m=\u001b[39;49m\u001b[43m \u001b[49m\u001b[38;5;124;43m'\u001b[39;49m\u001b[38;5;124;43mdata/star_field/\u001b[39;49m\u001b[38;5;124;43m'\u001b[39;49m\u001b[43m,\u001b[49m\u001b[43mdomask\u001b[49m\u001b[38;5;241;43m=\u001b[39;49m\u001b[38;5;28;43;01mFalse\u001b[39;49;00m\u001b[43m)\u001b[49m\n",
      "File \u001b[0;32m~/Documents/work/code/SynDiff/development/download_ps1_skycell.py:140\u001b[0m, in \u001b[0;36mbulk_download\u001b[0;34m(rac, decc, radius, home_dir, domask)\u001b[0m\n\u001b[1;32m    138\u001b[0m \u001b[38;5;28;01mfor\u001b[39;00m dec \u001b[38;5;129;01min\u001b[39;00m np\u001b[38;5;241m.\u001b[39marange(decc\u001b[38;5;241m-\u001b[39mradius\u001b[38;5;241m+\u001b[39m\u001b[38;5;241m0.001\u001b[39m, decc\u001b[38;5;241m+\u001b[39mradius\u001b[38;5;241m+\u001b[39m\u001b[38;5;241m0.2\u001b[39m, \u001b[38;5;241m0.2\u001b[39m):\n\u001b[1;32m    139\u001b[0m     r4ra \u001b[38;5;241m=\u001b[39m np\u001b[38;5;241m.\u001b[39msqrt(radius\u001b[38;5;241m*\u001b[39m\u001b[38;5;241m*\u001b[39m\u001b[38;5;241m2\u001b[39m\u001b[38;5;241m-\u001b[39m(decc\u001b[38;5;241m-\u001b[39mdec)\u001b[38;5;241m*\u001b[39m\u001b[38;5;241m*\u001b[39m\u001b[38;5;241m2\u001b[39m)\n\u001b[0;32m--> 140\u001b[0m     \u001b[38;5;28;01mfor\u001b[39;00m ra \u001b[38;5;129;01min\u001b[39;00m \u001b[43mnp\u001b[49m\u001b[38;5;241;43m.\u001b[39;49m\u001b[43marange\u001b[49m\u001b[43m(\u001b[49m\u001b[43mrac\u001b[49m\u001b[38;5;241;43m-\u001b[39;49m\u001b[43mr4ra\u001b[49m\u001b[38;5;241;43m/\u001b[39;49m\u001b[43mnp\u001b[49m\u001b[38;5;241;43m.\u001b[39;49m\u001b[43mcos\u001b[49m\u001b[43m(\u001b[49m\u001b[43mdec\u001b[49m\u001b[38;5;241;43m/\u001b[39;49m\u001b[38;5;241;43m180\u001b[39;49m\u001b[38;5;241;43m*\u001b[39;49m\u001b[43mnp\u001b[49m\u001b[38;5;241;43m.\u001b[39;49m\u001b[43mpi\u001b[49m\u001b[43m)\u001b[49m\u001b[43m,\u001b[49m\u001b[43m \u001b[49m\n\u001b[1;32m    141\u001b[0m \u001b[43m                        \u001b[49m\u001b[43mrac\u001b[49m\u001b[38;5;241;43m+\u001b[39;49m\u001b[43m(\u001b[49m\u001b[43mr4ra\u001b[49m\u001b[38;5;241;43m+\u001b[39;49m\u001b[38;5;241;43m0.19\u001b[39;49m\u001b[43m)\u001b[49m\u001b[38;5;241;43m/\u001b[39;49m\u001b[43mnp\u001b[49m\u001b[38;5;241;43m.\u001b[39;49m\u001b[43mcos\u001b[49m\u001b[43m(\u001b[49m\u001b[43mdec\u001b[49m\u001b[38;5;241;43m/\u001b[39;49m\u001b[38;5;241;43m180\u001b[39;49m\u001b[38;5;241;43m*\u001b[39;49m\u001b[43mnp\u001b[49m\u001b[38;5;241;43m.\u001b[39;49m\u001b[43mpi\u001b[49m\u001b[43m)\u001b[49m\u001b[43m,\u001b[49m\n\u001b[1;32m    142\u001b[0m \u001b[43m                        \u001b[49m\u001b[38;5;241;43m0.2\u001b[39;49m\u001b[38;5;241;43m/\u001b[39;49m\u001b[43mnp\u001b[49m\u001b[38;5;241;43m.\u001b[39;49m\u001b[43mcos\u001b[49m\u001b[43m(\u001b[49m\u001b[43mdec\u001b[49m\u001b[38;5;241;43m/\u001b[39;49m\u001b[38;5;241;43m180\u001b[39;49m\u001b[38;5;241;43m*\u001b[39;49m\u001b[43mnp\u001b[49m\u001b[38;5;241;43m.\u001b[39;49m\u001b[43mpi\u001b[49m\u001b[43m)\u001b[49m\u001b[43m)\u001b[49m:\n\u001b[1;32m    143\u001b[0m         outfiles \u001b[38;5;241m=\u001b[39m get_img_lc(ra, dec,fname_list \u001b[38;5;241m=\u001b[39m outfiles, home_dir \u001b[38;5;241m=\u001b[39m home_dir, domask \u001b[38;5;241m=\u001b[39m domask)\n\u001b[1;32m    144\u001b[0m \u001b[38;5;28;01mreturn\u001b[39;00m outfiles\n",
      "\u001b[0;31mValueError\u001b[0m: arange: cannot compute length"
     ]
    }
   ],
   "source": [
    "bulk_download(ra,dec, 0.1, home_dir = 'data/star_field/',domask=False)"
   ]
  },
  {
   "cell_type": "code",
   "execution_count": 3,
   "id": "77b222d5",
   "metadata": {},
   "outputs": [],
   "source": [
    "from astropy.io import fits"
   ]
  },
  {
   "cell_type": "code",
   "execution_count": 5,
   "id": "bc0909da",
   "metadata": {},
   "outputs": [
    {
     "data": {
      "text/plain": [
       "SIMPLE  =                    T / Uncompressed file's conforms to FITS           \n",
       "BITPIX  =                   16 / data type of original image                    \n",
       "NAXIS   =                    2 / dimension of original image                    \n",
       "NAXIS1  =                 6320 / length of original image axis                  \n",
       "NAXIS2  =                 6284 / length of original image axis                  \n",
       "CTYPE1  = 'RA---TAN'                                                            \n",
       "CTYPE2  = 'DEC--TAN'                                                            \n",
       "CRVAL1  =     121.764701843296                                                  \n",
       "CRVAL2  =     41.9999999999986                                                  \n",
       "CRPIX1  =             -11440.5                                                  \n",
       "CRPIX2  =              -22976.                                                  \n",
       "CDELT1  = 6.94444461259988E-05                                                  \n",
       "CDELT2  = 6.94444461259988E-05                                                  \n",
       "PC001001=                  -1.                                                  \n",
       "PC001002=                   0.                                                  \n",
       "PC002001=                   0.                                                  \n",
       "PC002002=                   1.                                                  \n",
       "HISTORY ppStack at 2015-02-20T07:34:01.841145                                   \n",
       "PSLIB_V = '37083   '                                                            \n",
       "HISTORY psLib version: tags/ipp-pv3-20140717/psLib@37083                        \n",
       "HISTORY psLib source: 60eb6cdc-a59c-4636-a4e0-dba66a9721fd                      \n",
       "MODULE_V= '37323:37768'                                                         \n",
       "HISTORY psModules version: tags/ipp-pv3-20140717/psModules@37323:37768          \n",
       "HISTORY psModules source: 60eb6cdc-a59c-4636-a4e0-dba66a9721fd                  \n",
       "PHOT_V  = '37083   '                                                            \n",
       "HISTORY psphot version: tags/ipp-pv3-20140717/psphot@37083                      \n",
       "HISTORY psphot source: 60eb6cdc-a59c-4636-a4e0-dba66a9721fd                     \n",
       "STATS_V = '37083   '                                                            \n",
       "HISTORY ppStats version: tags/ipp-pv3-20140717/ppStats@37083                    \n",
       "HISTORY ppStats source: 60eb6cdc-a59c-4636-a4e0-dba66a9721fd                    \n",
       "STACK_V = '37083   '                                                            \n",
       "HISTORY ppStack version: tags/ipp-pv3-20140717/ppStack@37083                    \n",
       "HISTORY ppStack source: 60eb6cdc-a59c-4636-a4e0-dba66a9721fd                    \n",
       "NINPUTS =                   15 / Number of input images                         \n",
       "STK_TYPE= 'DEEP_STACK'         / type of stack                                  \n",
       "STK_ID  = '4498579 '           / type of stack                                  \n",
       "SKYCELL = 'skycell.2180.097'   / type of stack                                  \n",
       "TESS_ID = 'RINGS.V3'           / type of stack                                  \n",
       "AIRM_SLP=                   0. / airmass slope                                  \n",
       "INP_0000= 'o5277g0072o.150541.wrp.1442987.skycell.2180.097.fits' / input image n\n",
       "INP_0001= 'o5277g0089o.150558.wrp.1442988.skycell.2180.097.fits' / input image n\n",
       "INP_0002= 'o5518g0709o.258438.wrp.1442998.skycell.2180.097.fits' / input image n\n",
       "INP_0003= 'o5518g0730o.258459.wrp.1442999.skycell.2180.097.fits' / input image n\n",
       "INP_0004= 'o5668g0059o.325032.wrp.1443003.skycell.2180.097.fits' / input image n\n",
       "INP_0005= 'o5668g0078o.325050.wrp.1443008.skycell.2180.097.fits' / input image n\n",
       "INP_0006= 'o5895g0629o.425493.wrp.1443012.skycell.2180.097.fits' / input image n\n",
       "INP_0007= 'o5895g0636o.425500.wrp.1443017.skycell.2180.097.fits' / input image n\n",
       "INP_0008= 'o5998g0147o.463566.wrp.1443021.skycell.2180.097.fits' / input image n\n",
       "INP_0009= 'o5998g0170o.463587.wrp.1443027.skycell.2180.097.fits' / input image n\n",
       "INP_0010= 'o6221g0613o.535950.wrp.1443035.skycell.2180.097.fits' / input image n\n",
       "INP_0011= 'o6221g0623o.535961.wrp.1443037.skycell.2180.097.fits' / input image n\n",
       "INP_0012= 'o6403g0080o.602782.wrp.1443046.skycell.2180.097.fits' / input image n\n",
       "INP_0013= 'o6403g0103o.602805.wrp.1443051.skycell.2180.097.fits' / input image n\n",
       "INP_0014= 'o6786g0066o.735154.wrp.1443055.skycell.2180.097.fits' / input image n\n",
       "SCL_0000=             75.86674 / input image scale factor                       \n",
       "SCL_0001=             76.69879 / input image scale factor                       \n",
       "SCL_0002=             97.53578 / input image scale factor                       \n",
       "SCL_0003=             97.91071 / input image scale factor                       \n",
       "SCL_0004=             86.03433 / input image scale factor                       \n",
       "SCL_0005=             86.60723 / input image scale factor                       \n",
       "SCL_0006=             80.73725 / input image scale factor                       \n",
       "SCL_0007=             82.78186 / input image scale factor                       \n",
       "SCL_0008=             102.3271 / input image scale factor                       \n",
       "SCL_0009=             91.02706 / input image scale factor                       \n",
       "SCL_0010=             77.78021 / input image scale factor                       \n",
       "SCL_0011=             79.74349 / input image scale factor                       \n",
       "SCL_0012=             78.46532 / input image scale factor                       \n",
       "SCL_0013=             79.21822 / input image scale factor                       \n",
       "SCL_0014=             37.50697 / input image scale factor                       \n",
       "ZPT_0000=              23.3688 / input image zero point                         \n",
       "ZPT_0001=             23.35202 / input image zero point                         \n",
       "ZPT_0002=             23.06773 / input image zero point                         \n",
       "ZPT_0003=             23.07318 / input image zero point                         \n",
       "ZPT_0004=             23.22409 / input image zero point                         \n",
       "ZPT_0005=             23.21913 / input image zero point                         \n",
       "ZPT_0006=             23.28774 / input image zero point                         \n",
       "ZPT_0007=             23.26884 / input image zero point                         \n",
       "ZPT_0008=             23.03221 / input image zero point                         \n",
       "ZPT_0009=             23.17361 / input image zero point                         \n",
       "ZPT_0010=             23.32995 / input image zero point                         \n",
       "ZPT_0011=              23.2951 / input image zero point                         \n",
       "ZPT_0012=              23.3165 / input image zero point                         \n",
       "ZPT_0013=             23.30132 / input image zero point                         \n",
       "ZPT_0014=             23.07157 / input image zero point                         \n",
       "EXP_0000=                  30. / input image exptime                            \n",
       "EXP_0001=                  30. / input image exptime                            \n",
       "EXP_0002=                  30. / input image exptime                            \n",
       "EXP_0003=                  30. / input image exptime                            \n",
       "EXP_0004=                  30. / input image exptime                            \n",
       "EXP_0005=                  30. / input image exptime                            \n",
       "EXP_0006=                  30. / input image exptime                            \n",
       "EXP_0007=                  30. / input image exptime                            \n",
       "EXP_0008=                  30. / input image exptime                            \n",
       "EXP_0009=                  30. / input image exptime                            \n",
       "EXP_0010=                  30. / input image exptime                            \n",
       "EXP_0011=                  30. / input image exptime                            \n",
       "EXP_0012=                  30. / input image exptime                            \n",
       "EXP_0013=                  30. / input image exptime                            \n",
       "EXP_0014=                  80. / input image exptime                            \n",
       "AIR_0000=                1.092 / input image airmass                            \n",
       "AIR_0001=                1.088 / input image airmass                            \n",
       "AIR_0002=                1.098 / input image airmass                            \n",
       "AIR_0003=                1.107 / input image airmass                            \n",
       "AIR_0004=                1.123 / input image airmass                            \n",
       "AIR_0005=                 1.14 / input image airmass                            \n",
       "AIR_0006=                1.167 / input image airmass                            \n",
       "AIR_0007=                1.176 / input image airmass                            \n",
       "AIR_0008=                1.129 / input image airmass                            \n",
       "AIR_0009=                1.152 / input image airmass                            \n",
       "AIR_0010=                1.111 / input image airmass                            \n",
       "AIR_0011=                1.106 / input image airmass                            \n",
       "AIR_0012=                1.125 / input image airmass                            \n",
       "AIR_0013=                1.148 / input image airmass                            \n",
       "AIR_0014=                1.282 / input image airmass                            \n",
       "PSCAMERA= 'GPC1    '           / Camera name                                    \n",
       "PSFORMAT= 'SKYCELL '           / Camera format                                  \n",
       "IMAGEID =              4498579 / Image identifier                               \n",
       "SOURCEID=                   35 / Source identifier                              \n",
       "HIERARCH FPA.TELESCOPE = 'PS1     ' / Telescope of origin                       \n",
       "HIERARCH FPA.INSTRUMENT = 'GPC1    ' / Instrument name (according to the instrum\n",
       "HIERARCH FPA.DETECTOR = 'GPC1    ' / Detector name                              \n",
       "HIERARCH FPA.COMMENT = '        ' / Observation comment                         \n",
       "HIERARCH FPA.OBS.MODE = '        ' / Observation mode (eg, survey id)           \n",
       "HIERARCH FPA.OBS.GROUP = '        ' / Observation group (eg, associated images) \n",
       "HIERARCH FPA.FOCUS = 'NaN     ' / Telescope focus                               \n",
       "AIRMASS =                   1. / Airmass at boresight                           \n",
       "HIERARCH FPA.FILTERID = 'y.00000 ' / Filter used (parsed, abstract name)        \n",
       "HIERARCH FPA.FILTER = 'y.00000 ' / Filter used (instrument name)                \n",
       "HIERARCH FPA.POSANGLE = 'NaN     ' / Position angle of instrument               \n",
       "HIERARCH FPA.ROTANGLE = 'NaN     ' / Rotator angle of instrument                \n",
       "HIERARCH FPA.RADECSYS = '        ' / Celestial coordinate system                \n",
       "HIERARCH FPA.RA = 'NaN     '   / Right Ascension of boresight                   \n",
       "HIERARCH FPA.DEC = 'NaN     '  / Declination of boresight                       \n",
       "HIERARCH FPA.LONGITUDE = 'NaN     ' / West longitude of observatory             \n",
       "HIERARCH FPA.LATITUDE = 'NaN     ' / Latitude of observatory                    \n",
       "HIERARCH FPA.ELEVATION = 'NaN     ' / Elevation of observatory (meters)         \n",
       "HIERARCH FPA.OBSTYPE = '        ' / Type of observation                         \n",
       "HIERARCH FPA.OBJECT = '        ' / Object of observation                        \n",
       "HIERARCH FPA.ALT = 'NaN     '  / Altitude of boresight                          \n",
       "HIERARCH FPA.AZ = 'NaN     '   / Azimuth of boresight                           \n",
       "HIERARCH FPA.TEMP = 'NaN     ' / Temperature of focal plane                     \n",
       "HIERARCH FPA.M1X = 'NaN     '  / Primary Mirror X Position                      \n",
       "HIERARCH FPA.M1Y = 'NaN     '  / Primary Mirror Y Position                      \n",
       "HIERARCH FPA.M1Z = 'NaN     '  / Primary Mirror Z Position                      \n",
       "HIERARCH FPA.M1TIP = 'NaN     ' / Primary Mirror TIP                            \n",
       "HIERARCH FPA.M1TILT = 'NaN     ' / Primary Mirror TILT                          \n",
       "HIERARCH FPA.M2X = 'NaN     '  / Primary Mirror X Position                      \n",
       "HIERARCH FPA.M2Y = 'NaN     '  / Primary Mirror Y Position                      \n",
       "HIERARCH FPA.M2Z = 'NaN     '  / Primary Mirror Z Position                      \n",
       "HIERARCH FPA.M2TIP = 'NaN     ' / Primary Mirror TIP                            \n",
       "HIERARCH FPA.M2TILT = 'NaN     ' / Primary Mirror TILT                          \n",
       "HIERARCH FPA.ENV.TEMP = 'NaN     ' / Environment: Temperature                   \n",
       "HIERARCH FPA.ENV.HUMID = 'NaN     ' / Environment: Humidity                     \n",
       "HIERARCH FPA.ENV.WIND = 'NaN     ' / Environment: Wind speed                    \n",
       "HIERARCH FPA.ENV.DIR = 'NaN     ' / Environment: Wind direction                 \n",
       "HIERARCH FPA.TELTEMP.M1 = 'NaN     ' / Telescope Temperatures: M1               \n",
       "HIERARCH FPA.TELTEMP.M1CELL = 'NaN     ' / Telescope Temperatures: M1 cell      \n",
       "HIERARCH FPA.TELTEMP.M2 = 'NaN     ' / Telescope Temperatures: M2               \n",
       "HIERARCH FPA.TELTEMP.SPIDER = 'NaN     ' / Telescope Temperatures: spider       \n",
       "HIERARCH FPA.TELTEMP.TRUSS = 'NaN     ' / Telescope Temperatures: truss         \n",
       "HIERARCH FPA.TELTEMP.EXTRA = 'NaN     ' / Telescope Temperatures: extra         \n",
       "HIERARCH FPA.PON.TIME = 'NaN     ' / Power On Time                              \n",
       "HIERARCH FPA.ZP =          25. / Magnitude zero point                           \n",
       "HIERARCH CHIP.XSIZE =        0 / Size of chip (pixels)                          \n",
       "HIERARCH CHIP.YSIZE =        0 / Size of chip (pixels)                          \n",
       "HIERARCH CHIP.TEMP = 'NaN     ' / Temperature of chip                           \n",
       "HIERARCH CHIP.TEMPERATURE = 'NaN     ' / Temperature of chip                    \n",
       "HIERARCH CHIP.ID = '        '  / Chip identifier                                \n",
       "HIERARCH CHIP.SEEING = 'NaN     ' / Seeing FWHM (pixels)                        \n",
       "HIERARCH CHIP.VIDEOCELL =    F / Does this OTA have any video cells             \n",
       "HIERARCH CELL.GAIN =  1.015434 / CCD gain (e/count)                             \n",
       "HIERARCH CELL.READNOISE = 5.691115 / CCD read noise (e)                         \n",
       "HIERARCH CELL.SATURATION = 2025376. / Saturation level (counts)                 \n",
       "HIERARCH CELL.BAD =         0. / Bad level (counts)                             \n",
       "EXPTIME =                 500. / Exposure time (sec)                            \n",
       "HIERARCH CELL.DARKTIME = 'NaN     ' / Time since flush (sec)                    \n",
       "HIERARCH CELL.XBIN =         1 / Binning in x                                   \n",
       "HIERARCH CELL.YBIN =         1 / Binning in y                                   \n",
       "MJD-OBS =      55916.822668887 / Time of exposure                               \n",
       "HIERARCH CELL.XSIZE =        0 / Size of cell (pixels)                          \n",
       "HIERARCH CELL.YSIZE =        0 / Size of cell (pixels)                          \n",
       "HIERARCH CELL.XWINDOW =      0 / Start of cell window (pixels)                  \n",
       "HIERARCH CELL.YWINDOW =      0 / Start of cell window (pixels)                  \n",
       "HIERARCH CELL.TRIMSEC = '[1:6320,1:6284]' / Trim section                        \n",
       "HIERARCH CELL.BIASSEC = ''                                                      \n",
       "BZERO   =   3.632996916771E+00 / Scaling: TRUE = BZERO + BSCALE * DISK          \n",
       "BSCALE  =   1.908685283002E-04 / Scaling: TRUE = BZERO + BSCALE * DISK          \n",
       "BSOFTEN =   4.137191922843E+02 / Scaling: LINEAR = 2 * BSOFTEN * sinh(TRUE/a)   \n",
       "BOFFSET =   1.732926559448E+01 / Scaling: UNCOMP = BOFFSET + LINEAR             \n",
       "BLANK   =                32767 / Value for undefined pixels                     \n",
       "CHECKSUM= 'KKOdLHNaKHNaKHNa'   / HDU checksum updated 2024-08-08T22:14:59       \n",
       "DATASUM = '3987269020'         / data unit checksum updated 2024-08-08T22:14:59 "
      ]
     },
     "execution_count": 5,
     "metadata": {},
     "output_type": "execute_result"
    }
   ],
   "source": [
    "fits.open('data/ps1_skycell/test/rings.v3.skycell.2180.097.stk.y.unconv.fits')[0].header"
   ]
  },
  {
   "cell_type": "code",
   "execution_count": 3,
   "id": "9126a8e8",
   "metadata": {},
   "outputs": [
    {
     "data": {
      "text/plain": [
       "array([43.83455324, 44.03455324, 44.23455324, 44.43455324, 44.63455324,\n",
       "       44.83455324, 45.03455324, 45.23455324, 45.43455324, 45.63455324,\n",
       "       45.83455324, 46.03455324, 46.23455324, 46.43455324, 46.63455324,\n",
       "       46.83455324])"
      ]
     },
     "execution_count": 3,
     "metadata": {},
     "output_type": "execute_result"
    }
   ],
   "source": [
    "rac = 120.434250672726; decc = 45.293553239629475; radius = 2.92/2\n",
    "np.arange(decc-radius+0.001, decc+radius+0.2, 0.2)"
   ]
  },
  {
   "cell_type": "code",
   "execution_count": 5,
   "id": "d59c6b1f",
   "metadata": {},
   "outputs": [
    {
     "ename": "ZeroDivisionError",
     "evalue": "division by zero",
     "output_type": "error",
     "traceback": [
      "\u001b[0;31m---------------------------------------------------------------------------\u001b[0m",
      "\u001b[0;31mZeroDivisionError\u001b[0m                         Traceback (most recent call last)",
      "Cell \u001b[0;32mIn[5], line 1\u001b[0m\n\u001b[0;32m----> 1\u001b[0m \u001b[38;5;241;43m1\u001b[39;49m\u001b[38;5;241;43m/\u001b[39;49m\u001b[38;5;241;43m0\u001b[39;49m\n",
      "\u001b[0;31mZeroDivisionError\u001b[0m: division by zero"
     ]
    }
   ],
   "source": [
    "1/0"
   ]
  },
  {
   "cell_type": "code",
   "execution_count": 6,
   "id": "dad23f23",
   "metadata": {},
   "outputs": [
    {
     "data": {
      "text/plain": [
       "1.46"
      ]
     },
     "execution_count": 6,
     "metadata": {},
     "output_type": "execute_result"
    }
   ],
   "source": [
    "2.92/2"
   ]
  },
  {
   "cell_type": "code",
   "execution_count": null,
   "id": "38f2c9e5",
   "metadata": {},
   "outputs": [],
   "source": []
  }
 ],
 "metadata": {
  "kernelspec": {
   "display_name": "Python 3 (ipykernel)",
   "language": "python",
   "name": "python3"
  },
  "language_info": {
   "codemirror_mode": {
    "name": "ipython",
    "version": 3
   },
   "file_extension": ".py",
   "mimetype": "text/x-python",
   "name": "python",
   "nbconvert_exporter": "python",
   "pygments_lexer": "ipython3",
   "version": "3.12.2"
  }
 },
 "nbformat": 4,
 "nbformat_minor": 5
}
