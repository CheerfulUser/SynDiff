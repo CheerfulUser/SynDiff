{
 "cells": [
  {
   "cell_type": "code",
   "execution_count": 1,
   "metadata": {},
   "outputs": [],
   "source": [
    "%matplotlib notebook\n",
    "import numpy as np\n",
    "import matplotlib.pyplot as plt\n",
    "\n",
    "import sys\n",
    "sys.path\n",
    "sys.path.append('../scenes/')\n",
    "import syndiff as sd \n",
    "\n",
    "from scipy.optimize import minimize"
   ]
  },
  {
   "cell_type": "code",
   "execution_count": 3,
   "metadata": {},
   "outputs": [],
   "source": [
    "\n",
    "    return np.nansum(np.abs(template - ga))\n"
   ]
  },
  {
   "cell_type": "code",
   "execution_count": 2,
   "metadata": {},
   "outputs": [],
   "source": [
    "Ra =  336#95.4586\n",
    "Dec = 47#-51.2377\n",
    "Size = 20\n",
    "Maglim= 16\n",
    "Bkg_limit = 20.5\n",
    "Zeropoint = 20.44\n",
    "Scale = 100\n",
    "Interpolate = False\n",
    "tpf = sd.Get_TESS(Ra,Dec,Size)\n",
    "# pos returned as column row \n",
    "pos, gmag = sd.Get_Gaia(tpf,magnitude_limit=Maglim)\n",
    "col = pos[:,0]\n",
    "row = pos[:,1]\n",
    "\n",
    "Tmag = gmag - 0.5\n",
    "tcounts = 10**(-2/5*(Tmag - Zeropoint))\n",
    "bkg = 10**(-2/5*(Bkg_limit - Zeropoint))"
   ]
  },
  {
   "cell_type": "code",
   "execution_count": null,
   "metadata": {},
   "outputs": [],
   "source": [
    "guess = [0,0]\n",
    "pos_corr = minimize(Optimise_scene,guess)"
   ]
  },
  {
   "cell_type": "code",
   "execution_count": 4,
   "metadata": {},
   "outputs": [],
   "source": [
    "global tpf\n",
    "global pos\n",
    "global tcounts"
   ]
  },
  {
   "cell_type": "code",
   "execution_count": 5,
   "metadata": {},
   "outputs": [],
   "source": [
    "def Optimise_scene(Delt):\n",
    "    \"\"\"\n",
    "    row is Delt[0]\n",
    "    col is Delt[1]\n",
    "    \"\"\"\n",
    "    sources = np.zeros((len(pos),tpf.shape[1],tpf.shape[2]))\n",
    "    for i in range(len(pos)):\n",
    "        template = np.zeros((2*tpf.shape[1],2*tpf.shape[2]))\n",
    "        kernal = sd.Get_PRF(pos[i,0] + tpf.row + Delt[1], pos[i,1] + tpf.column + Delt[0],\n",
    "                         tpf.camera,tpf.ccd)\n",
    "        #print(template.shape)\n",
    "        offset1 = int(0.5 * tpf.shape[1])\n",
    "        offset2 = int(0.5 * tpf.shape[2])\n",
    "        obj_row = int(pos[i,1] + offset1 + Delt[0]) \n",
    "        obj_col = int(pos[i,0] + offset2+ Delt[1])\n",
    "        if ((obj_row >= 0) & (obj_row < template.shape[0]) &\n",
    "           (obj_row >= 0) & (obj_col < template.shape[1])):\n",
    "            template[obj_row,obj_col] = tcounts[i]\n",
    "            template = signal.fftconvolve(template, kernal, mode='same')\n",
    "        template = template[offset1:int(3*offset1),offset2-1:int(3*offset2-1)]\n",
    "        sources[i] = template #+ 10**(-2/5*(20.5 - 20.44))\n",
    "    template = np.nanmedian(tpf.flux,axis=0)\n",
    "    ga = np.nansum(sources,axis=0)\n",
    "    print(Delt)"
   ]
  },
  {
   "cell_type": "code",
   "execution_count": null,
   "metadata": {},
   "outputs": [],
   "source": []
  }
 ],
 "metadata": {
  "kernelspec": {
   "display_name": "Python 3",
   "language": "python",
   "name": "python3"
  },
  "language_info": {
   "codemirror_mode": {
    "name": "ipython",
    "version": 3
   },
   "file_extension": ".py",
   "mimetype": "text/x-python",
   "name": "python",
   "nbconvert_exporter": "python",
   "pygments_lexer": "ipython3",
   "version": "3.7.3"
  }
 },
 "nbformat": 4,
 "nbformat_minor": 4
}
