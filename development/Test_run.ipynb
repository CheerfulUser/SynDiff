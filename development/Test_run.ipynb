{
 "cells": [
  {
   "cell_type": "code",
   "execution_count": 1,
   "metadata": {},
   "outputs": [],
   "source": [
    "%matplotlib notebook\n",
    "import numpy as np\n",
    "import matplotlib.pyplot as plt\n",
    "\n",
    "import sys\n",
    "sys.path\n",
    "sys.path.append('../scenes/')\n",
    "import syndiff as sd "
   ]
  },
  {
   "cell_type": "code",
   "execution_count": null,
   "metadata": {
    "scrolled": true
   },
   "outputs": [],
   "source": [
    "ra =  336#95.4586\n",
    "dec = 47#-51.2377\n",
    "size = 20\n",
    "scene = sd.Gaia_scene(ra,dec,20,19,Interpolate=True,Plot = True)"
   ]
  },
  {
   "cell_type": "markdown",
   "metadata": {},
   "source": [
    "Ra =  336#95.4586\n",
    "Dec = 47#-51.2377\n",
    "Size = 20\n",
    "Maglim= 10\n",
    "Bkg_limit = 20.5\n",
    "Zeropoint = 20.44\n",
    "Scale = 100\n",
    "Interpolate = True\n",
    "tpf = sd.Get_TESS(Ra,Dec,Size)\n",
    "# pos returned as column row \n",
    "pos, gmag = sd.Get_Gaia(tpf,magnitude_limit=Maglim)\n",
    "col = pos[:,0]\n",
    "row = pos[:,1]\n",
    "\n",
    "Tmag = gmag - 0.5\n",
    "tcounts = 10**(-2/5*(Tmag - Zeropoint))\n",
    "bkg = 10**(-2/5*(Bkg_limit - Zeropoint))"
   ]
  },
  {
   "cell_type": "markdown",
   "metadata": {},
   "source": [
    "sources = np.zeros((len(pos),tpf.shape[1],tpf.shape[2])) + bkg\n",
    "for i in range(len(pos)):\n",
    "    if Interpolate:\n",
    "        template = np.zeros((2*tpf.shape[1]*Scale,2*tpf.shape[2]*Scale))\n",
    "        print('template shape ',template.shape)\n",
    "        offset1 = int(0.5 * tpf.shape[1] * Scale)\n",
    "        offset2 = int(0.5 * tpf.shape[2] * Scale)\n",
    "        template[int(row[i]*Scale + offset1),int(col[i]*Scale+ offset2)] = tcounts[i]\n",
    "        print(np.nansum(template))\n",
    "        kernal = sd.Interp_PRF(row[i] + tpf.row, col[i] + tpf.column,tpf.camera,tpf.ccd,Scale)\n",
    "        print(np.nansum(kernal))\n",
    "        template = sd.signal.fftconvolve(template, kernal, mode='same')\n",
    "        print(np.nansum(template))\n",
    "        template = template[offset1:int(3*offset1),offset2:int(3*offset2)]\n",
    "        #print('template shape ',template.shape)\n",
    "        sources[i] = sd.Downsample(template,Scale)"
   ]
  },
  {
   "cell_type": "code",
   "execution_count": null,
   "metadata": {},
   "outputs": [],
   "source": []
  }
 ],
 "metadata": {
  "kernelspec": {
   "display_name": "Python 3",
   "language": "python",
   "name": "python3"
  },
  "language_info": {
   "codemirror_mode": {
    "name": "ipython",
    "version": 3
   },
   "file_extension": ".py",
   "mimetype": "text/x-python",
   "name": "python",
   "nbconvert_exporter": "python",
   "pygments_lexer": "ipython3",
   "version": "3.7.3"
  }
 },
 "nbformat": 4,
 "nbformat_minor": 4
}
